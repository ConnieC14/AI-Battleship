{
 "cells": [
  {
   "cell_type": "code",
   "execution_count": 1,
   "metadata": {
    "collapsed": true
   },
   "outputs": [],
   "source": [
    "import copy\n",
    "import random\n",
    "import pandas as pd\n",
    "import numpy as np"
   ]
  },
  {
   "cell_type": "markdown",
   "metadata": {},
   "source": [
    "# Battleship"
   ]
  },
  {
   "cell_type": "markdown",
   "metadata": {},
   "source": [
    "Rules:\n",
    "1. Each player arranges ships according to fleet\n",
    "2. Take turns firing a shot\n",
    "3. Mark Hits and Misses\n",
    "4. Call out when a ship has been sunk\n",
    "5. Sink all to win"
   ]
  },
  {
   "cell_type": "markdown",
   "metadata": {},
   "source": [
    "Ships:\n",
    "1. Carrier - 5\n",
    "2. Battleship - 4\n",
    "3. Cruiser - 3\n",
    "4. Submarine - 3\n",
    "5. Destroyer -2"
   ]
  },
  {
   "cell_type": "markdown",
   "metadata": {},
   "source": [
    "10 Rows x 10 Columns  \n",
    "\n",
    "|   |   |   |   |   |   |   |   |   |   |\n",
    "|---|---|---|---|---|---|---|---|---|---|\n",
    "|   |   |   |   |   |   |   |   |   |   |\n",
    "|   |   |   |   |   |   |   |   |   |   |\n",
    "|   |   |   |   |   |   |   |   |   |   |\n",
    "|   |   |   |   |   |   |   |   |   |   |\n",
    "|   |   |   |   |   |   |   |   |   |   |\n",
    "|   |   |   |   |   |   |   |   |   |   |\n",
    "|   |   |   |   |   |   |   |   |   |   |\n",
    "|   |   |   |   |   |   |   |   |   |   |\n",
    "|   |   |   |   |   |   |   |   |   |   |"
   ]
  },
  {
   "cell_type": "markdown",
   "metadata": {},
   "source": [
    "##### Parameters"
   ]
  },
  {
   "cell_type": "code",
   "execution_count": 2,
   "metadata": {
    "collapsed": true
   },
   "outputs": [],
   "source": [
    "Enemy_Ships = [[\"Carrier\", 5, []],[\"Battleship\", 4, []],[\"Cruiser\", 3, []],[\"Submarine\", 3, []],[\"Destroyer\", 2, []]]"
   ]
  },
  {
   "cell_type": "markdown",
   "metadata": {},
   "source": [
    "##### Helper Functions"
   ]
  },
  {
   "cell_type": "code",
   "execution_count": 3,
   "metadata": {
    "collapsed": true
   },
   "outputs": [],
   "source": [
    "# Is current proposed ship allocation valid?\n",
    "\n",
    "def ValidPlacement(Board, i, j, k, length):\n",
    "    # Board = Dictionary for Board\n",
    "    # i = row of ship\n",
    "    # j = column of ship\n",
    "    # k = orientation of ship (0 = hoz, 1 = vert)\n",
    "    # length = length of ship\n",
    "    \n",
    "    #Horizontal Ship\n",
    "    if (k == 0):\n",
    "        if (j>11-length):\n",
    "            return 0\n",
    "        else:\n",
    "            occupied = 0\n",
    "            for l in range(length):\n",
    "                occupied = occupied + Board[i][j+l]\n",
    "            if(occupied == 0):\n",
    "                return 1\n",
    "            else:\n",
    "                return 0\n",
    "            \n",
    "    #Vertical Ship\n",
    "    if (k == 1):\n",
    "        if (i>11-length):\n",
    "            return 0\n",
    "        else:\n",
    "            occupied = 0\n",
    "            for l in range(length):\n",
    "                occupied = occupied + Board[i+l][j]\n",
    "            if(occupied == 0):\n",
    "                return 1\n",
    "            else:\n",
    "                return 0"
   ]
  },
  {
   "cell_type": "code",
   "execution_count": 4,
   "metadata": {
    "collapsed": true
   },
   "outputs": [],
   "source": [
    "def ValidLocations(Board, Ship_List):\n",
    "    #Wri\n",
    "    #Board: dictionary for occupied spaces\n",
    "    #Ship_List: Array with ship name, length, 3rd index to place valid locations \n",
    "    #          [\"Ship_Name\", length, []]\n",
    "    \n",
    "    for s in range(len(Ship_List)):\n",
    "        valid_placements = []\n",
    "        Ship = Ship_List[s]\n",
    "        length = Ship[1]\n",
    "\n",
    "        for i in range(1,11):\n",
    "            for j in range(1,11):\n",
    "                for k in range(2):\n",
    "                     if (ValidPlacement(Board,i,j,k,length)==1):\n",
    "                            valid_placements.append([i,j,k])\n",
    "        Ship[2] = valid_placements"
   ]
  },
  {
   "cell_type": "code",
   "execution_count": 5,
   "metadata": {
    "collapsed": false
   },
   "outputs": [],
   "source": [
    "def SpacesOccupied(length,location):\n",
    "    #length = length of ship\n",
    "    #location = [i,j,k]\n",
    "    #Returns list of spaces occupied by ship\n",
    "    \n",
    "    occupied = []\n",
    "    i,j,k = location\n",
    "    \n",
    "    if (k==0):\n",
    "        for l in range(length):\n",
    "            occupied.append((i,j+l))\n",
    "    if (k==1):\n",
    "        for l in range(length):\n",
    "            occupied.append((i+l,j))\n",
    "        \n",
    "    return occupied"
   ]
  },
  {
   "cell_type": "code",
   "execution_count": 6,
   "metadata": {
    "collapsed": true
   },
   "outputs": [],
   "source": [
    "def RandomSample(Ship_List):\n",
    "    # Ship_List = [\"Ship_Name\", length, locations]\n",
    "    # Return: Data frame of board with 1s for ship positions\n",
    "    #        or all 0s if not a valid arrangement\n",
    "    \n",
    "    PDF = pd.DataFrame(index=range(1,11), columns=range(1,11))\n",
    "    PDF = PDF.fillna(0) # with 0s rather than NaNs\n",
    "    \n",
    "    locations = []\n",
    "    for s in range(len(Ship_List)):\n",
    "        Ship = Ship_List[s]\n",
    "        position = random.choice(Ship[2])\n",
    "        spaces = SpacesOccupied(Ship[1],position)\n",
    "        locations.extend(spaces)\n",
    "    #Check if valid configuration\n",
    "    if(len(locations) == len(set(locations))):\n",
    "        for t in locations:\n",
    "            PDF.loc[t] = 1\n",
    "        return PDF\n",
    "    else:\n",
    "        return False        "
   ]
  },
  {
   "cell_type": "code",
   "execution_count": 7,
   "metadata": {
    "collapsed": true
   },
   "outputs": [],
   "source": [
    "def NSamples(N,M,Ship_List):\n",
    "    #N = Number of samples wanted\n",
    "    #M = Max number of iterations\n",
    "    #Ship_List = [\"Ship_Name\", length, locations]\n",
    "    #Returns: (DF, S) Data frame of accumulated possible locations and number of actual samples taken\n",
    "    \n",
    "    PDF = pd.DataFrame(index=range(1,11), columns=range(1,11))\n",
    "    PDF = PDF.fillna(0) # with 0s rather than NaNs\n",
    "    n = 0\n",
    "    m = 0\n",
    "    while( (n<N) & (m<M) ):\n",
    "        m = m + 1\n",
    "        Result = RandomSample(Ship_List)\n",
    "        if (type(Result) != bool):\n",
    "            PDF = PDF + Result\n",
    "            n = n+1\n",
    "    \n",
    "    return(PDF,n)"
   ]
  },
  {
   "cell_type": "markdown",
   "metadata": {
    "collapsed": true
   },
   "source": [
    "##### Initialize Board"
   ]
  },
  {
   "cell_type": "code",
   "execution_count": 84,
   "metadata": {
    "collapsed": false
   },
   "outputs": [],
   "source": [
    "Board = {}\n",
    "for i in range(1,11):\n",
    "    Board[i] = {}\n",
    "    for j in range(1,11):\n",
    "        Board[i][j] = 0 \n",
    "\n",
    "# Board = np.zeros((10,10))"
   ]
  },
  {
   "cell_type": "markdown",
   "metadata": {},
   "source": [
    "##### Example"
   ]
  },
  {
   "cell_type": "code",
   "execution_count": 85,
   "metadata": {
    "collapsed": false
   },
   "outputs": [],
   "source": [
    "Board[5][5] = 1\n",
    "Board[5][6] = 1\n",
    "Board[6][5] = 1\n",
    "Board[6][6] = 1\n",
    "\n",
    "Board[2][2] = 1\n",
    "Board[3][3] = 1\n",
    "Board[4][4] = 1\n",
    "Board[5][1] = 1\n",
    "\n",
    "Board[10][10] = 1\n",
    "Board[8][3] = 1\n",
    "Board[2][7] = 1\n",
    "Board[10][9] = 1"
   ]
  },
  {
   "cell_type": "code",
   "execution_count": 86,
   "metadata": {
    "collapsed": false
   },
   "outputs": [],
   "source": [
    "ValidLocations(Board, Enemy_Ships)"
   ]
  },
  {
   "cell_type": "code",
   "execution_count": 87,
   "metadata": {
    "collapsed": false,
    "scrolled": true
   },
   "outputs": [],
   "source": [
    "PDF,n = NSamples(2000,6000,Enemy_Ships)"
   ]
  },
  {
   "cell_type": "code",
   "execution_count": 88,
   "metadata": {
    "collapsed": false
   },
   "outputs": [
    {
     "data": {
      "text/html": [
       "<div>\n",
       "<table border=\"1\" class=\"dataframe\">\n",
       "  <thead>\n",
       "    <tr style=\"text-align: right;\">\n",
       "      <th></th>\n",
       "      <th>1</th>\n",
       "      <th>2</th>\n",
       "      <th>3</th>\n",
       "      <th>4</th>\n",
       "      <th>5</th>\n",
       "      <th>6</th>\n",
       "      <th>7</th>\n",
       "      <th>8</th>\n",
       "      <th>9</th>\n",
       "      <th>10</th>\n",
       "    </tr>\n",
       "  </thead>\n",
       "  <tbody>\n",
       "    <tr>\n",
       "      <th>1</th>\n",
       "      <td>225</td>\n",
       "      <td>277</td>\n",
       "      <td>387</td>\n",
       "      <td>478</td>\n",
       "      <td>543</td>\n",
       "      <td>518</td>\n",
       "      <td>418</td>\n",
       "      <td>449</td>\n",
       "      <td>355</td>\n",
       "      <td>258</td>\n",
       "    </tr>\n",
       "    <tr>\n",
       "      <th>2</th>\n",
       "      <td>174</td>\n",
       "      <td>0</td>\n",
       "      <td>117</td>\n",
       "      <td>223</td>\n",
       "      <td>295</td>\n",
       "      <td>220</td>\n",
       "      <td>0</td>\n",
       "      <td>239</td>\n",
       "      <td>261</td>\n",
       "      <td>312</td>\n",
       "    </tr>\n",
       "    <tr>\n",
       "      <th>3</th>\n",
       "      <td>201</td>\n",
       "      <td>137</td>\n",
       "      <td>0</td>\n",
       "      <td>183</td>\n",
       "      <td>369</td>\n",
       "      <td>439</td>\n",
       "      <td>424</td>\n",
       "      <td>553</td>\n",
       "      <td>478</td>\n",
       "      <td>447</td>\n",
       "    </tr>\n",
       "    <tr>\n",
       "      <th>4</th>\n",
       "      <td>170</td>\n",
       "      <td>308</td>\n",
       "      <td>150</td>\n",
       "      <td>0</td>\n",
       "      <td>185</td>\n",
       "      <td>300</td>\n",
       "      <td>488</td>\n",
       "      <td>572</td>\n",
       "      <td>544</td>\n",
       "      <td>506</td>\n",
       "    </tr>\n",
       "    <tr>\n",
       "      <th>5</th>\n",
       "      <td>0</td>\n",
       "      <td>394</td>\n",
       "      <td>243</td>\n",
       "      <td>172</td>\n",
       "      <td>0</td>\n",
       "      <td>0</td>\n",
       "      <td>392</td>\n",
       "      <td>460</td>\n",
       "      <td>488</td>\n",
       "      <td>490</td>\n",
       "    </tr>\n",
       "    <tr>\n",
       "      <th>6</th>\n",
       "      <td>213</td>\n",
       "      <td>512</td>\n",
       "      <td>304</td>\n",
       "      <td>299</td>\n",
       "      <td>0</td>\n",
       "      <td>0</td>\n",
       "      <td>416</td>\n",
       "      <td>464</td>\n",
       "      <td>453</td>\n",
       "      <td>454</td>\n",
       "    </tr>\n",
       "    <tr>\n",
       "      <th>7</th>\n",
       "      <td>317</td>\n",
       "      <td>559</td>\n",
       "      <td>383</td>\n",
       "      <td>600</td>\n",
       "      <td>443</td>\n",
       "      <td>416</td>\n",
       "      <td>617</td>\n",
       "      <td>583</td>\n",
       "      <td>469</td>\n",
       "      <td>436</td>\n",
       "    </tr>\n",
       "    <tr>\n",
       "      <th>8</th>\n",
       "      <td>281</td>\n",
       "      <td>328</td>\n",
       "      <td>0</td>\n",
       "      <td>364</td>\n",
       "      <td>360</td>\n",
       "      <td>420</td>\n",
       "      <td>583</td>\n",
       "      <td>560</td>\n",
       "      <td>407</td>\n",
       "      <td>340</td>\n",
       "    </tr>\n",
       "    <tr>\n",
       "      <th>9</th>\n",
       "      <td>329</td>\n",
       "      <td>444</td>\n",
       "      <td>317</td>\n",
       "      <td>547</td>\n",
       "      <td>538</td>\n",
       "      <td>503</td>\n",
       "      <td>537</td>\n",
       "      <td>507</td>\n",
       "      <td>324</td>\n",
       "      <td>230</td>\n",
       "    </tr>\n",
       "    <tr>\n",
       "      <th>10</th>\n",
       "      <td>252</td>\n",
       "      <td>386</td>\n",
       "      <td>394</td>\n",
       "      <td>541</td>\n",
       "      <td>508</td>\n",
       "      <td>419</td>\n",
       "      <td>331</td>\n",
       "      <td>215</td>\n",
       "      <td>0</td>\n",
       "      <td>0</td>\n",
       "    </tr>\n",
       "  </tbody>\n",
       "</table>\n",
       "</div>"
      ],
      "text/plain": [
       "     1    2    3    4    5    6    7    8    9    10\n",
       "1   225  277  387  478  543  518  418  449  355  258\n",
       "2   174    0  117  223  295  220    0  239  261  312\n",
       "3   201  137    0  183  369  439  424  553  478  447\n",
       "4   170  308  150    0  185  300  488  572  544  506\n",
       "5     0  394  243  172    0    0  392  460  488  490\n",
       "6   213  512  304  299    0    0  416  464  453  454\n",
       "7   317  559  383  600  443  416  617  583  469  436\n",
       "8   281  328    0  364  360  420  583  560  407  340\n",
       "9   329  444  317  547  538  503  537  507  324  230\n",
       "10  252  386  394  541  508  419  331  215    0    0"
      ]
     },
     "execution_count": 88,
     "metadata": {},
     "output_type": "execute_result"
    }
   ],
   "source": [
    "PDF"
   ]
  },
  {
   "cell_type": "code",
   "execution_count": 89,
   "metadata": {
    "collapsed": false
   },
   "outputs": [
    {
     "data": {
      "text/html": [
       "<div>\n",
       "<table border=\"1\" class=\"dataframe\">\n",
       "  <thead>\n",
       "    <tr style=\"text-align: right;\">\n",
       "      <th></th>\n",
       "      <th>1</th>\n",
       "      <th>2</th>\n",
       "      <th>3</th>\n",
       "      <th>4</th>\n",
       "      <th>5</th>\n",
       "      <th>6</th>\n",
       "      <th>7</th>\n",
       "      <th>8</th>\n",
       "      <th>9</th>\n",
       "      <th>10</th>\n",
       "    </tr>\n",
       "  </thead>\n",
       "  <tbody>\n",
       "    <tr>\n",
       "      <th>1</th>\n",
       "      <td>0.113350</td>\n",
       "      <td>0.139547</td>\n",
       "      <td>0.194962</td>\n",
       "      <td>0.240806</td>\n",
       "      <td>0.273552</td>\n",
       "      <td>0.260957</td>\n",
       "      <td>0.210579</td>\n",
       "      <td>0.226196</td>\n",
       "      <td>0.178841</td>\n",
       "      <td>0.129975</td>\n",
       "    </tr>\n",
       "    <tr>\n",
       "      <th>2</th>\n",
       "      <td>0.087657</td>\n",
       "      <td>0.000000</td>\n",
       "      <td>0.058942</td>\n",
       "      <td>0.112343</td>\n",
       "      <td>0.148615</td>\n",
       "      <td>0.110831</td>\n",
       "      <td>0.000000</td>\n",
       "      <td>0.120403</td>\n",
       "      <td>0.131486</td>\n",
       "      <td>0.157179</td>\n",
       "    </tr>\n",
       "    <tr>\n",
       "      <th>3</th>\n",
       "      <td>0.101259</td>\n",
       "      <td>0.069018</td>\n",
       "      <td>0.000000</td>\n",
       "      <td>0.092191</td>\n",
       "      <td>0.185894</td>\n",
       "      <td>0.221159</td>\n",
       "      <td>0.213602</td>\n",
       "      <td>0.278589</td>\n",
       "      <td>0.240806</td>\n",
       "      <td>0.225189</td>\n",
       "    </tr>\n",
       "    <tr>\n",
       "      <th>4</th>\n",
       "      <td>0.085642</td>\n",
       "      <td>0.155164</td>\n",
       "      <td>0.075567</td>\n",
       "      <td>0.000000</td>\n",
       "      <td>0.093199</td>\n",
       "      <td>0.151134</td>\n",
       "      <td>0.245844</td>\n",
       "      <td>0.288161</td>\n",
       "      <td>0.274055</td>\n",
       "      <td>0.254912</td>\n",
       "    </tr>\n",
       "    <tr>\n",
       "      <th>5</th>\n",
       "      <td>0.000000</td>\n",
       "      <td>0.198489</td>\n",
       "      <td>0.122418</td>\n",
       "      <td>0.086650</td>\n",
       "      <td>0.000000</td>\n",
       "      <td>0.000000</td>\n",
       "      <td>0.197481</td>\n",
       "      <td>0.231738</td>\n",
       "      <td>0.245844</td>\n",
       "      <td>0.246851</td>\n",
       "    </tr>\n",
       "    <tr>\n",
       "      <th>6</th>\n",
       "      <td>0.107305</td>\n",
       "      <td>0.257935</td>\n",
       "      <td>0.153149</td>\n",
       "      <td>0.150630</td>\n",
       "      <td>0.000000</td>\n",
       "      <td>0.000000</td>\n",
       "      <td>0.209572</td>\n",
       "      <td>0.233753</td>\n",
       "      <td>0.228212</td>\n",
       "      <td>0.228715</td>\n",
       "    </tr>\n",
       "    <tr>\n",
       "      <th>7</th>\n",
       "      <td>0.159698</td>\n",
       "      <td>0.281612</td>\n",
       "      <td>0.192947</td>\n",
       "      <td>0.302267</td>\n",
       "      <td>0.223174</td>\n",
       "      <td>0.209572</td>\n",
       "      <td>0.310831</td>\n",
       "      <td>0.293703</td>\n",
       "      <td>0.236272</td>\n",
       "      <td>0.219647</td>\n",
       "    </tr>\n",
       "    <tr>\n",
       "      <th>8</th>\n",
       "      <td>0.141562</td>\n",
       "      <td>0.165239</td>\n",
       "      <td>0.000000</td>\n",
       "      <td>0.183375</td>\n",
       "      <td>0.181360</td>\n",
       "      <td>0.211587</td>\n",
       "      <td>0.293703</td>\n",
       "      <td>0.282116</td>\n",
       "      <td>0.205038</td>\n",
       "      <td>0.171285</td>\n",
       "    </tr>\n",
       "    <tr>\n",
       "      <th>9</th>\n",
       "      <td>0.165743</td>\n",
       "      <td>0.223678</td>\n",
       "      <td>0.159698</td>\n",
       "      <td>0.275567</td>\n",
       "      <td>0.271033</td>\n",
       "      <td>0.253401</td>\n",
       "      <td>0.270529</td>\n",
       "      <td>0.255416</td>\n",
       "      <td>0.163224</td>\n",
       "      <td>0.115869</td>\n",
       "    </tr>\n",
       "    <tr>\n",
       "      <th>10</th>\n",
       "      <td>0.126952</td>\n",
       "      <td>0.194458</td>\n",
       "      <td>0.198489</td>\n",
       "      <td>0.272544</td>\n",
       "      <td>0.255919</td>\n",
       "      <td>0.211083</td>\n",
       "      <td>0.166751</td>\n",
       "      <td>0.108312</td>\n",
       "      <td>0.000000</td>\n",
       "      <td>0.000000</td>\n",
       "    </tr>\n",
       "  </tbody>\n",
       "</table>\n",
       "</div>"
      ],
      "text/plain": [
       "          1         2         3         4         5         6         7   \\\n",
       "1   0.113350  0.139547  0.194962  0.240806  0.273552  0.260957  0.210579   \n",
       "2   0.087657  0.000000  0.058942  0.112343  0.148615  0.110831  0.000000   \n",
       "3   0.101259  0.069018  0.000000  0.092191  0.185894  0.221159  0.213602   \n",
       "4   0.085642  0.155164  0.075567  0.000000  0.093199  0.151134  0.245844   \n",
       "5   0.000000  0.198489  0.122418  0.086650  0.000000  0.000000  0.197481   \n",
       "6   0.107305  0.257935  0.153149  0.150630  0.000000  0.000000  0.209572   \n",
       "7   0.159698  0.281612  0.192947  0.302267  0.223174  0.209572  0.310831   \n",
       "8   0.141562  0.165239  0.000000  0.183375  0.181360  0.211587  0.293703   \n",
       "9   0.165743  0.223678  0.159698  0.275567  0.271033  0.253401  0.270529   \n",
       "10  0.126952  0.194458  0.198489  0.272544  0.255919  0.211083  0.166751   \n",
       "\n",
       "          8         9         10  \n",
       "1   0.226196  0.178841  0.129975  \n",
       "2   0.120403  0.131486  0.157179  \n",
       "3   0.278589  0.240806  0.225189  \n",
       "4   0.288161  0.274055  0.254912  \n",
       "5   0.231738  0.245844  0.246851  \n",
       "6   0.233753  0.228212  0.228715  \n",
       "7   0.293703  0.236272  0.219647  \n",
       "8   0.282116  0.205038  0.171285  \n",
       "9   0.255416  0.163224  0.115869  \n",
       "10  0.108312  0.000000  0.000000  "
      ]
     },
     "execution_count": 89,
     "metadata": {},
     "output_type": "execute_result"
    }
   ],
   "source": [
    "PDF/n"
   ]
  },
  {
   "cell_type": "code",
   "execution_count": 90,
   "metadata": {
    "collapsed": false
   },
   "outputs": [
    {
     "data": {
      "text/plain": [
       "1985"
      ]
     },
     "execution_count": 90,
     "metadata": {},
     "output_type": "execute_result"
    }
   ],
   "source": [
    "n"
   ]
  },
  {
   "cell_type": "code",
   "execution_count": 91,
   "metadata": {
    "collapsed": false
   },
   "outputs": [],
   "source": [
    "a = np.array([[1,3,2],[8,7,9],[5,6,4]])\n",
    "#print(a)\n",
    "arr = np.where(a==a.max())\n",
    "x = arr[0]\n",
    "y = arr[1]\n",
    "#print(a[x].flatten()[y])\n",
    "\n",
    "Unsunk = 0"
   ]
  },
  {
   "cell_type": "code",
   "execution_count": 112,
   "metadata": {
    "collapsed": false
   },
   "outputs": [],
   "source": [
    "def ShipSearch(Board, Enemy_Ships):\n",
    "    # ShipSearch = [Board, Enemy_Ships, locations]\n",
    "    # Board: dictionary for occupied spaces\n",
    "    # Enemy_Ships: Array with ship name, length, 3rd index to place valid locations \n",
    "    #          [\"Ship_Name\", length, []]\n",
    "    # Returns: x,y coordinates of chosen spot (on board)\n",
    "    \n",
    "    # What is a good choice for N and M in NSamples?    \n",
    "    PDF,n = NSamples(2000,6000,Enemy_Ships)\n",
    "    \n",
    "    arr = np.where(PDF==max(PDF.max()))\n",
    "    x = arr[0]+1\n",
    "    y = arr[1]+1\n",
    "    #because max PDF[x][y] corresponds to Board[x+1][y+1]\n",
    "    \n",
    "    return x,y"
   ]
  },
  {
   "cell_type": "code",
   "execution_count": 113,
   "metadata": {
    "collapsed": false
   },
   "outputs": [
    {
     "data": {
      "text/plain": [
       "617"
      ]
     },
     "execution_count": 113,
     "metadata": {},
     "output_type": "execute_result"
    }
   ],
   "source": [
    "np.max(PDF.max())"
   ]
  },
  {
   "cell_type": "code",
   "execution_count": 115,
   "metadata": {
    "collapsed": false
   },
   "outputs": [],
   "source": [
    "x,y = ShipSearch(Board,Enemy_Ships,0)"
   ]
  },
  {
   "cell_type": "code",
   "execution_count": 117,
   "metadata": {
    "collapsed": false,
    "scrolled": true
   },
   "outputs": [
    {
     "name": "stdout",
     "output_type": "stream",
     "text": [
      "[7]\n",
      "[7]\n",
      "[['Carrier', 5, [[1, 1, 0], [1, 2, 0], [1, 3, 0], [1, 4, 0], [1, 5, 0], [1, 6, 0], [1, 8, 1], [1, 9, 1], [1, 10, 1], [2, 8, 1], [2, 9, 1], [2, 10, 1], [3, 2, 1], [3, 4, 0], [3, 5, 0], [3, 6, 0], [3, 7, 1], [3, 8, 1], [3, 9, 1], [3, 10, 1], [4, 2, 1], [4, 5, 0], [4, 6, 0], [4, 7, 1], [4, 8, 1], [4, 9, 1], [4, 10, 1], [5, 2, 1], [5, 4, 1], [5, 7, 1], [5, 8, 1], [5, 9, 1], [5, 10, 1], [6, 1, 1], [6, 2, 1], [6, 4, 1], [6, 7, 1], [6, 8, 1], [7, 1, 0], [7, 2, 0], [7, 3, 0], [7, 4, 0], [7, 5, 0], [7, 6, 0], [8, 4, 0], [8, 5, 0], [8, 6, 0], [9, 1, 0], [9, 2, 0], [9, 3, 0], [9, 4, 0], [9, 5, 0], [9, 6, 0], [10, 1, 0], [10, 2, 0], [10, 3, 0], [10, 4, 0]]], ['Battleship', 4, [[1, 1, 0], [1, 1, 1], [1, 2, 0], [1, 3, 0], [1, 4, 0], [1, 5, 0], [1, 5, 1], [1, 6, 0], [1, 6, 1], [1, 7, 0], [1, 8, 1], [1, 9, 1], [1, 10, 1], [2, 3, 0], [2, 8, 1], [2, 9, 1], [2, 10, 1], [3, 2, 1], [3, 4, 0], [3, 5, 0], [3, 6, 0], [3, 7, 0], [3, 7, 1], [3, 8, 1], [3, 9, 1], [3, 10, 1], [4, 2, 1], [4, 3, 1], [4, 5, 0], [4, 6, 0], [4, 7, 0], [4, 7, 1], [4, 8, 1], [4, 9, 1], [4, 10, 1], [5, 2, 1], [5, 4, 1], [5, 7, 0], [5, 7, 1], [5, 8, 1], [5, 9, 1], [5, 10, 1], [6, 1, 0], [6, 1, 1], [6, 2, 1], [6, 4, 1], [6, 7, 0], [6, 7, 1], [6, 8, 1], [6, 9, 1], [6, 10, 1], [7, 1, 0], [7, 1, 1], [7, 2, 0], [7, 2, 1], [7, 3, 0], [7, 4, 0], [7, 4, 1], [7, 5, 0], [7, 5, 1], [7, 6, 0], [7, 6, 1], [7, 7, 0], [7, 7, 1], [7, 8, 1], [8, 4, 0], [8, 5, 0], [8, 6, 0], [8, 7, 0], [9, 1, 0], [9, 2, 0], [9, 3, 0], [9, 4, 0], [9, 5, 0], [9, 6, 0], [9, 7, 0], [10, 1, 0], [10, 2, 0], [10, 3, 0], [10, 4, 0], [10, 5, 0]]], ['Cruiser', 3, [[1, 1, 0], [1, 1, 1], [1, 2, 0], [1, 3, 0], [1, 4, 0], [1, 4, 1], [1, 5, 0], [1, 5, 1], [1, 6, 0], [1, 6, 1], [1, 7, 0], [1, 8, 0], [1, 8, 1], [1, 9, 1], [1, 10, 1], [2, 1, 1], [2, 3, 0], [2, 4, 0], [2, 5, 1], [2, 6, 1], [2, 8, 0], [2, 8, 1], [2, 9, 1], [2, 10, 1], [3, 2, 1], [3, 4, 0], [3, 5, 0], [3, 6, 0], [3, 7, 0], [3, 7, 1], [3, 8, 0], [3, 8, 1], [3, 9, 1], [3, 10, 1], [4, 1, 0], [4, 2, 1], [4, 3, 1], [4, 5, 0], [4, 6, 0], [4, 7, 0], [4, 7, 1], [4, 8, 0], [4, 8, 1], [4, 9, 1], [4, 10, 1], [5, 2, 0], [5, 2, 1], [5, 3, 1], [5, 4, 1], [5, 7, 0], [5, 7, 1], [5, 8, 0], [5, 8, 1], [5, 9, 1], [5, 10, 1], [6, 1, 0], [6, 1, 1], [6, 2, 0], [6, 2, 1], [6, 4, 1], [6, 7, 0], [6, 7, 1], [6, 8, 0], [6, 8, 1], [6, 9, 1], [6, 10, 1], [7, 1, 0], [7, 1, 1], [7, 2, 0], [7, 2, 1], [7, 3, 0], [7, 4, 0], [7, 4, 1], [7, 5, 0], [7, 5, 1], [7, 6, 0], [7, 6, 1], [7, 7, 0], [7, 7, 1], [7, 8, 0], [7, 8, 1], [7, 9, 1], [7, 10, 1], [8, 1, 1], [8, 2, 1], [8, 4, 0], [8, 4, 1], [8, 5, 0], [8, 5, 1], [8, 6, 0], [8, 6, 1], [8, 7, 0], [8, 7, 1], [8, 8, 0], [8, 8, 1], [9, 1, 0], [9, 2, 0], [9, 3, 0], [9, 4, 0], [9, 5, 0], [9, 6, 0], [9, 7, 0], [9, 8, 0], [10, 1, 0], [10, 2, 0], [10, 3, 0], [10, 4, 0], [10, 5, 0], [10, 6, 0]]], ['Submarine', 3, [[1, 1, 0], [1, 1, 1], [1, 2, 0], [1, 3, 0], [1, 4, 0], [1, 4, 1], [1, 5, 0], [1, 5, 1], [1, 6, 0], [1, 6, 1], [1, 7, 0], [1, 8, 0], [1, 8, 1], [1, 9, 1], [1, 10, 1], [2, 1, 1], [2, 3, 0], [2, 4, 0], [2, 5, 1], [2, 6, 1], [2, 8, 0], [2, 8, 1], [2, 9, 1], [2, 10, 1], [3, 2, 1], [3, 4, 0], [3, 5, 0], [3, 6, 0], [3, 7, 0], [3, 7, 1], [3, 8, 0], [3, 8, 1], [3, 9, 1], [3, 10, 1], [4, 1, 0], [4, 2, 1], [4, 3, 1], [4, 5, 0], [4, 6, 0], [4, 7, 0], [4, 7, 1], [4, 8, 0], [4, 8, 1], [4, 9, 1], [4, 10, 1], [5, 2, 0], [5, 2, 1], [5, 3, 1], [5, 4, 1], [5, 7, 0], [5, 7, 1], [5, 8, 0], [5, 8, 1], [5, 9, 1], [5, 10, 1], [6, 1, 0], [6, 1, 1], [6, 2, 0], [6, 2, 1], [6, 4, 1], [6, 7, 0], [6, 7, 1], [6, 8, 0], [6, 8, 1], [6, 9, 1], [6, 10, 1], [7, 1, 0], [7, 1, 1], [7, 2, 0], [7, 2, 1], [7, 3, 0], [7, 4, 0], [7, 4, 1], [7, 5, 0], [7, 5, 1], [7, 6, 0], [7, 6, 1], [7, 7, 0], [7, 7, 1], [7, 8, 0], [7, 8, 1], [7, 9, 1], [7, 10, 1], [8, 1, 1], [8, 2, 1], [8, 4, 0], [8, 4, 1], [8, 5, 0], [8, 5, 1], [8, 6, 0], [8, 6, 1], [8, 7, 0], [8, 7, 1], [8, 8, 0], [8, 8, 1], [9, 1, 0], [9, 2, 0], [9, 3, 0], [9, 4, 0], [9, 5, 0], [9, 6, 0], [9, 7, 0], [9, 8, 0], [10, 1, 0], [10, 2, 0], [10, 3, 0], [10, 4, 0], [10, 5, 0], [10, 6, 0]]], ['Destroyer', 2, [[1, 1, 0], [1, 1, 1], [1, 2, 0], [1, 3, 0], [1, 3, 1], [1, 4, 0], [1, 4, 1], [1, 5, 0], [1, 5, 1], [1, 6, 0], [1, 6, 1], [1, 7, 0], [1, 8, 0], [1, 8, 1], [1, 9, 0], [1, 9, 1], [1, 10, 1], [2, 1, 1], [2, 3, 0], [2, 4, 0], [2, 4, 1], [2, 5, 0], [2, 5, 1], [2, 6, 1], [2, 8, 0], [2, 8, 1], [2, 9, 0], [2, 9, 1], [2, 10, 1], [3, 1, 0], [3, 1, 1], [3, 2, 1], [3, 4, 0], [3, 5, 0], [3, 5, 1], [3, 6, 0], [3, 6, 1], [3, 7, 0], [3, 7, 1], [3, 8, 0], [3, 8, 1], [3, 9, 0], [3, 9, 1], [3, 10, 1], [4, 1, 0], [4, 2, 0], [4, 2, 1], [4, 3, 1], [4, 5, 0], [4, 6, 0], [4, 7, 0], [4, 7, 1], [4, 8, 0], [4, 8, 1], [4, 9, 0], [4, 9, 1], [4, 10, 1], [5, 2, 0], [5, 2, 1], [5, 3, 0], [5, 3, 1], [5, 4, 1], [5, 7, 0], [5, 7, 1], [5, 8, 0], [5, 8, 1], [5, 9, 0], [5, 9, 1], [5, 10, 1], [6, 1, 0], [6, 1, 1], [6, 2, 0], [6, 2, 1], [6, 3, 0], [6, 3, 1], [6, 4, 1], [6, 7, 0], [6, 7, 1], [6, 8, 0], [6, 8, 1], [6, 9, 0], [6, 9, 1], [6, 10, 1], [7, 1, 0], [7, 1, 1], [7, 2, 0], [7, 2, 1], [7, 3, 0], [7, 4, 0], [7, 4, 1], [7, 5, 0], [7, 5, 1], [7, 6, 0], [7, 6, 1], [7, 7, 0], [7, 7, 1], [7, 8, 0], [7, 8, 1], [7, 9, 0], [7, 9, 1], [7, 10, 1], [8, 1, 0], [8, 1, 1], [8, 2, 1], [8, 4, 0], [8, 4, 1], [8, 5, 0], [8, 5, 1], [8, 6, 0], [8, 6, 1], [8, 7, 0], [8, 7, 1], [8, 8, 0], [8, 8, 1], [8, 9, 0], [8, 9, 1], [8, 10, 1], [9, 1, 0], [9, 1, 1], [9, 2, 0], [9, 2, 1], [9, 3, 0], [9, 3, 1], [9, 4, 0], [9, 4, 1], [9, 5, 0], [9, 5, 1], [9, 6, 0], [9, 6, 1], [9, 7, 0], [9, 7, 1], [9, 8, 0], [9, 8, 1], [9, 9, 0], [10, 1, 0], [10, 2, 0], [10, 3, 0], [10, 4, 0], [10, 5, 0], [10, 6, 0], [10, 7, 0]]]]\n"
     ]
    }
   ],
   "source": [
    "print(x)\n",
    "print(y)\n",
    "print(Enemy_Ships)"
   ]
  },
  {
   "cell_type": "code",
   "execution_count": 170,
   "metadata": {
    "collapsed": false
   },
   "outputs": [],
   "source": [
    "def isHit(Board, Enemy_Ships, x, y):\n",
    "    # isHit = [Board, Enemy_Ships, x, y]\n",
    "    # Board: dictionary for occupied spaces\n",
    "    # Enemy_Ships: Array with ship name, length, 3rd index to place valid locations \n",
    "    #          [\"Ship_Name\", length, []]\n",
    "    # x, y: target x-y coordinates on board\n",
    "    # Returns: whether or not it's a hit!\n",
    "    \n",
    "#      for s in range(len(Ship_List)):\n",
    "#         valid_placements = []\n",
    "#         Ship = Ship_List[s]\n",
    "#         length = Ship[1]\n",
    "\n",
    "#         for i in range(1,11):\n",
    "#             for j in range(1,11):\n",
    "#                 for k in range(2):\n",
    "#                      if (ValidPlacement(Board,i,j,k,length)==1):\n",
    "#                             valid_placements.append([i,j,k])\n",
    "#         Ship[2] = valid_placements\n",
    "        \n",
    "    i=0\n",
    "    j=0\n",
    "    while i < (len(Enemy_Ships)):\n",
    "        i += 1\n",
    "        print('\\n')\n",
    "        print(len(Enemy_Ships[i]))\n",
    "        while j < (len(Enemy_Ships[i])):\n",
    "            j += 1\n",
    "            coord = Enemy_Ships[i][2][j]\n",
    "            print(coord)\n",
    "            if coord[0] == x and coord[1] == y:\n",
    "                print('hit!')\n",
    "            else:\n",
    "                print('miss!')\n",
    "    \n",
    "    return 1"
   ]
  },
  {
   "cell_type": "code",
   "execution_count": 171,
   "metadata": {
    "collapsed": false
   },
   "outputs": [
    {
     "name": "stdout",
     "output_type": "stream",
     "text": [
      "\n",
      "\n",
      "3\n",
      "[1, 1, 1]\n",
      "miss!\n",
      "[1, 2, 0]\n",
      "miss!\n",
      "[1, 3, 0]\n",
      "miss!\n",
      "\n",
      "\n",
      "3\n",
      "\n",
      "\n",
      "3\n",
      "\n",
      "\n",
      "3\n",
      "\n",
      "\n"
     ]
    },
    {
     "ename": "IndexError",
     "evalue": "list index out of range",
     "output_type": "error",
     "traceback": [
      "\u001b[0;31m---------------------------------------------------------------------------\u001b[0m",
      "\u001b[0;31mIndexError\u001b[0m                                Traceback (most recent call last)",
      "\u001b[0;32m<ipython-input-171-96db94a29f68>\u001b[0m in \u001b[0;36m<module>\u001b[0;34m()\u001b[0m\n\u001b[0;32m----> 1\u001b[0;31m \u001b[0misHit\u001b[0m\u001b[1;33m(\u001b[0m\u001b[0mBoard\u001b[0m\u001b[1;33m,\u001b[0m\u001b[0mEnemy_Ships\u001b[0m\u001b[1;33m,\u001b[0m\u001b[0mx\u001b[0m\u001b[1;33m,\u001b[0m\u001b[0my\u001b[0m\u001b[1;33m)\u001b[0m\u001b[1;33m\u001b[0m\u001b[0m\n\u001b[0m",
      "\u001b[0;32m<ipython-input-170-2844ed11983e>\u001b[0m in \u001b[0;36misHit\u001b[0;34m(Board, Enemy_Ships, x, y)\u001b[0m\n\u001b[1;32m     24\u001b[0m         \u001b[0mi\u001b[0m \u001b[1;33m+=\u001b[0m \u001b[1;36m1\u001b[0m\u001b[1;33m\u001b[0m\u001b[0m\n\u001b[1;32m     25\u001b[0m         \u001b[0mprint\u001b[0m\u001b[1;33m(\u001b[0m\u001b[1;34m'\\n'\u001b[0m\u001b[1;33m)\u001b[0m\u001b[1;33m\u001b[0m\u001b[0m\n\u001b[0;32m---> 26\u001b[0;31m         \u001b[0mprint\u001b[0m\u001b[1;33m(\u001b[0m\u001b[0mlen\u001b[0m\u001b[1;33m(\u001b[0m\u001b[0mEnemy_Ships\u001b[0m\u001b[1;33m[\u001b[0m\u001b[0mi\u001b[0m\u001b[1;33m]\u001b[0m\u001b[1;33m)\u001b[0m\u001b[1;33m)\u001b[0m\u001b[1;33m\u001b[0m\u001b[0m\n\u001b[0m\u001b[1;32m     27\u001b[0m         \u001b[1;32mwhile\u001b[0m \u001b[0mj\u001b[0m \u001b[1;33m<\u001b[0m \u001b[1;33m(\u001b[0m\u001b[0mlen\u001b[0m\u001b[1;33m(\u001b[0m\u001b[0mEnemy_Ships\u001b[0m\u001b[1;33m[\u001b[0m\u001b[0mi\u001b[0m\u001b[1;33m]\u001b[0m\u001b[1;33m)\u001b[0m\u001b[1;33m)\u001b[0m\u001b[1;33m:\u001b[0m\u001b[1;33m\u001b[0m\u001b[0m\n\u001b[1;32m     28\u001b[0m             \u001b[0mj\u001b[0m \u001b[1;33m+=\u001b[0m \u001b[1;36m1\u001b[0m\u001b[1;33m\u001b[0m\u001b[0m\n",
      "\u001b[0;31mIndexError\u001b[0m: list index out of range"
     ]
    }
   ],
   "source": [
    "isHit(Board,Enemy_Ships,x,y)"
   ]
  },
  {
   "cell_type": "markdown",
   "metadata": {},
   "source": [
    "### To Do"
   ]
  },
  {
   "cell_type": "markdown",
   "metadata": {},
   "source": [
    "1. Code should be divided into \"Ship Search\" and \"Ship Sink\" methods\n",
    "    * Ship Search - tries to find ship to sink (mostly written)\n",
    "    * Ship Sink - tries to sink ship when one is found (need to write)\n",
    "2. Find space with highest probability to shoot into for \"Ship Search\"\n",
    "3. Write \"Ship Sink\" method\n",
    "    * If enemy ship is hit, iterate through list of possible ships that were hit to find most likely direction to start testing\n",
    "    * Edge cases very important. Possible to hit multiple ships in trying tosink one so \"ship sunk\" queue very important\n",
    "    "
   ]
  }
 ],
 "metadata": {
  "anaconda-cloud": {},
  "kernelspec": {
   "display_name": "Python 3",
   "language": "python",
   "name": "python3"
  },
  "language_info": {
   "codemirror_mode": {
    "name": "ipython",
    "version": 3
   },
   "file_extension": ".py",
   "mimetype": "text/x-python",
   "name": "python",
   "nbconvert_exporter": "python",
   "pygments_lexer": "ipython3",
   "version": "3.6.0"
  }
 },
 "nbformat": 4,
 "nbformat_minor": 1
}
