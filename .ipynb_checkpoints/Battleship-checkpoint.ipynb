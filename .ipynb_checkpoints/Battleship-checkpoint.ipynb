{
 "cells": [
  {
   "cell_type": "code",
   "execution_count": 401,
   "metadata": {
    "collapsed": true
   },
   "outputs": [],
   "source": [
    "import copy\n",
    "import random\n",
    "import pandas as pd\n",
    "import numpy as np"
   ]
  },
  {
   "cell_type": "markdown",
   "metadata": {},
   "source": [
    "# Battleship"
   ]
  },
  {
   "cell_type": "markdown",
   "metadata": {},
   "source": [
    "Rules:\n",
    "1. Each player arranges ships according to fleet\n",
    "2. Take turns firing a shot\n",
    "3. Mark Hits and Misses\n",
    "4. Call out when a ship has been sunk\n",
    "5. Sink all to win"
   ]
  },
  {
   "cell_type": "markdown",
   "metadata": {},
   "source": [
    "Ships:\n",
    "1. Carrier - 5\n",
    "2. Battleship - 4\n",
    "3. Cruiser - 3\n",
    "4. Submarine - 3\n",
    "5. Destroyer -2"
   ]
  },
  {
   "cell_type": "markdown",
   "metadata": {},
   "source": [
    "10 Rows x 10 Columns  \n",
    "\n",
    "|   |   |   |   |   |   |   |   |   |   |\n",
    "|---|---|---|---|---|---|---|---|---|---|\n",
    "|   |   |   |   |   |   |   |   |   |   |\n",
    "|   |   |   |   |   |   |   |   |   |   |\n",
    "|   |   |   |   |   |   |   |   |   |   |\n",
    "|   |   |   |   |   |   |   |   |   |   |\n",
    "|   |   |   |   |   |   |   |   |   |   |\n",
    "|   |   |   |   |   |   |   |   |   |   |\n",
    "|   |   |   |   |   |   |   |   |   |   |\n",
    "|   |   |   |   |   |   |   |   |   |   |\n",
    "|   |   |   |   |   |   |   |   |   |   |"
   ]
  },
  {
   "cell_type": "markdown",
   "metadata": {},
   "source": [
    "##### Parameters"
   ]
  },
  {
   "cell_type": "code",
   "execution_count": 402,
   "metadata": {
    "collapsed": true
   },
   "outputs": [],
   "source": [
    "Enemy_Ships = [[\"Carrier\", 5, []],\n",
    "               [\"Battleship\", 4, []],\n",
    "               [\"Cruiser\", 3, []],\n",
    "               [\"Submarine\", 3, []],\n",
    "               [\"Destroyer\", 2, []]]"
   ]
  },
  {
   "cell_type": "markdown",
   "metadata": {},
   "source": [
    "##### Helper Functions"
   ]
  },
  {
   "cell_type": "code",
   "execution_count": 403,
   "metadata": {
    "collapsed": true
   },
   "outputs": [],
   "source": [
    "# Is current proposed ship allocation valid?\n",
    "\n",
    "def ValidPlacement(Board, i, j, k, length):\n",
    "    # Board = Dictionary for Board\n",
    "    # i = row of ship\n",
    "    # j = column of ship\n",
    "    # k = orientation of ship (0 = hoz, 1 = vert)\n",
    "    # length = length of ship\n",
    "    \n",
    "    #Horizontal Ship\n",
    "    if (k == 0):\n",
    "        if (j>11-length):\n",
    "            return 0\n",
    "        else:\n",
    "            occupied = 0\n",
    "            for l in range(length):\n",
    "                occupied = occupied + Board[i][j+l]\n",
    "            if(occupied == 0):\n",
    "                return 1\n",
    "            else:\n",
    "                return 0\n",
    "            \n",
    "    #Vertical Ship\n",
    "    if (k == 1):\n",
    "        if (i>11-length):\n",
    "            return 0\n",
    "        else:\n",
    "            occupied = 0\n",
    "            for l in range(length):\n",
    "                occupied = occupied + Board[i+l][j]\n",
    "            if(occupied == 0):\n",
    "                return 1\n",
    "            else:\n",
    "                return 0"
   ]
  },
  {
   "cell_type": "code",
   "execution_count": 404,
   "metadata": {
    "collapsed": true
   },
   "outputs": [],
   "source": [
    "def ValidLocations(Board, Ship_List):\n",
    "    #Wri\n",
    "    #Board: dictionary for occupied spaces\n",
    "    #Ship_List: Array with ship name, length, 3rd index to place valid locations \n",
    "    #          [\"Ship_Name\", length, []]\n",
    "    \n",
    "    for s in range(len(Ship_List)):\n",
    "        valid_placements = []\n",
    "        Ship = Ship_List[s]\n",
    "        length = Ship[1]\n",
    "\n",
    "        for i in range(1,11):\n",
    "            for j in range(1,11):\n",
    "                for k in range(2):\n",
    "                     if (ValidPlacement(Board,i,j,k,length)==1):\n",
    "                            valid_placements.append([i,j,k])\n",
    "        Ship[2] = valid_placements"
   ]
  },
  {
   "cell_type": "code",
   "execution_count": 405,
   "metadata": {
    "collapsed": false
   },
   "outputs": [],
   "source": [
    "def SpacesOccupied(length,location):\n",
    "    #length = length of ship\n",
    "    #location = [i,j,k]\n",
    "    #Returns list of spaces occupied by ship\n",
    "    \n",
    "    occupied = []\n",
    "    i,j,k = location\n",
    "    \n",
    "    if (k==0):\n",
    "        for l in range(length):\n",
    "            occupied.append((i,j+l))\n",
    "    if (k==1):\n",
    "        for l in range(length):\n",
    "            occupied.append((i+l,j))\n",
    "        \n",
    "    return occupied"
   ]
  },
  {
   "cell_type": "code",
   "execution_count": 406,
   "metadata": {
    "collapsed": true
   },
   "outputs": [],
   "source": [
    "def RandomSample(Ship_List):\n",
    "    # Ship_List = [\"Ship_Name\", length, locations]\n",
    "    # Return: Data frame of board with 1s for ship positions\n",
    "    #        or all 0s if not a valid arrangement\n",
    "    \n",
    "    PDF = pd.DataFrame(index=range(1,11), columns=range(1,11))\n",
    "    PDF = PDF.fillna(0) # with 0s rather than NaNs\n",
    "    \n",
    "    locations = []\n",
    "    for s in range(len(Ship_List)):\n",
    "        Ship = Ship_List[s]\n",
    "        position = random.choice(Ship[2])\n",
    "        spaces = SpacesOccupied(Ship[1],position)\n",
    "        locations.extend(spaces)\n",
    "    #Check if valid configuration\n",
    "    if(len(locations) == len(set(locations))):\n",
    "        for t in locations:\n",
    "            PDF.loc[t] = 1\n",
    "        return PDF\n",
    "    else:\n",
    "        return False        "
   ]
  },
  {
   "cell_type": "code",
   "execution_count": 407,
   "metadata": {
    "collapsed": true
   },
   "outputs": [],
   "source": [
    "def NSamples(N,M,Ship_List):\n",
    "    #N = Number of samples wanted\n",
    "    #M = Max number of iterations\n",
    "    #Ship_List = [\"Ship_Name\", length, locations]\n",
    "    #Returns: (DF, S) Data frame of accumulated possible locations and number of actual samples taken\n",
    "    \n",
    "    PDF = pd.DataFrame(index=range(1,11), columns=range(1,11))\n",
    "    PDF = PDF.fillna(0) # with 0s rather than NaNs\n",
    "    n = 0\n",
    "    m = 0\n",
    "    while( (n<N) & (m<M) ):\n",
    "        m = m + 1\n",
    "        Result = RandomSample(Ship_List)\n",
    "        if (type(Result) != bool):\n",
    "            PDF = PDF + Result\n",
    "            n = n+1\n",
    "    \n",
    "    return(PDF,n)"
   ]
  },
  {
   "cell_type": "markdown",
   "metadata": {
    "collapsed": true
   },
   "source": [
    "##### Initialize Board"
   ]
  },
  {
   "cell_type": "code",
   "execution_count": 408,
   "metadata": {
    "collapsed": false
   },
   "outputs": [],
   "source": [
    "Board = {}\n",
    "for i in range(1,11):\n",
    "    Board[i] = {}\n",
    "    for j in range(1,11):\n",
    "        Board[i][j] = 0 \n",
    "        \n",
    "# Board = np.zeros((10,10))"
   ]
  },
  {
   "cell_type": "markdown",
   "metadata": {},
   "source": [
    "##### Example"
   ]
  },
  {
   "cell_type": "code",
   "execution_count": 409,
   "metadata": {
    "collapsed": false
   },
   "outputs": [],
   "source": [
    "Board[5][5] = 1\n",
    "Board[5][6] = 1\n",
    "Board[6][5] = 1\n",
    "Board[6][6] = 1\n",
    "\n",
    "Board[2][2] = 1\n",
    "Board[3][3] = 1\n",
    "Board[4][4] = 1\n",
    "Board[5][1] = 1\n",
    "\n",
    "Board[10][10] = 1\n",
    "Board[8][3] = 1\n",
    "Board[2][7] = 1\n",
    "Board[10][9] = 1"
   ]
  },
  {
   "cell_type": "code",
   "execution_count": 411,
   "metadata": {
    "collapsed": false
   },
   "outputs": [],
   "source": [
    "def dispBoard(Board):\n",
    "    #Board: dictionary for occupied spaces\n",
    "\n",
    "    DispBoard = np.zeros((10,10))\n",
    "\n",
    "    for i in range(1,11):\n",
    "        for j in range(1,11):\n",
    "            if Board[i][j] == 0:\n",
    "                DispBoard[i-1][j-1] = '.'\n",
    "            else:\n",
    "                DispBoard[i-1][j-1] = 'X'\n",
    "\n",
    "    print(DispBoard)"
   ]
  },
  {
   "cell_type": "code",
   "execution_count": 412,
   "metadata": {
    "collapsed": false
   },
   "outputs": [],
   "source": [
    "ValidLocations(Board, Enemy_Ships)"
   ]
  },
  {
   "cell_type": "code",
   "execution_count": 414,
   "metadata": {
    "collapsed": false,
    "scrolled": true
   },
   "outputs": [],
   "source": [
    "PDF,n = NSamples(2000,6000,Enemy_Ships)"
   ]
  },
  {
   "cell_type": "code",
   "execution_count": 415,
   "metadata": {
    "collapsed": false
   },
   "outputs": [
    {
     "data": {
      "text/html": [
       "<div>\n",
       "<table border=\"1\" class=\"dataframe\">\n",
       "  <thead>\n",
       "    <tr style=\"text-align: right;\">\n",
       "      <th></th>\n",
       "      <th>1</th>\n",
       "      <th>2</th>\n",
       "      <th>3</th>\n",
       "      <th>4</th>\n",
       "      <th>5</th>\n",
       "      <th>6</th>\n",
       "      <th>7</th>\n",
       "      <th>8</th>\n",
       "      <th>9</th>\n",
       "      <th>10</th>\n",
       "    </tr>\n",
       "  </thead>\n",
       "  <tbody>\n",
       "    <tr>\n",
       "      <th>1</th>\n",
       "      <td>232</td>\n",
       "      <td>270</td>\n",
       "      <td>388</td>\n",
       "      <td>496</td>\n",
       "      <td>551</td>\n",
       "      <td>560</td>\n",
       "      <td>443</td>\n",
       "      <td>461</td>\n",
       "      <td>392</td>\n",
       "      <td>253</td>\n",
       "    </tr>\n",
       "    <tr>\n",
       "      <th>2</th>\n",
       "      <td>155</td>\n",
       "      <td>0</td>\n",
       "      <td>114</td>\n",
       "      <td>239</td>\n",
       "      <td>278</td>\n",
       "      <td>226</td>\n",
       "      <td>0</td>\n",
       "      <td>257</td>\n",
       "      <td>303</td>\n",
       "      <td>291</td>\n",
       "    </tr>\n",
       "    <tr>\n",
       "      <th>3</th>\n",
       "      <td>177</td>\n",
       "      <td>146</td>\n",
       "      <td>0</td>\n",
       "      <td>200</td>\n",
       "      <td>358</td>\n",
       "      <td>429</td>\n",
       "      <td>409</td>\n",
       "      <td>563</td>\n",
       "      <td>490</td>\n",
       "      <td>446</td>\n",
       "    </tr>\n",
       "    <tr>\n",
       "      <th>4</th>\n",
       "      <td>164</td>\n",
       "      <td>321</td>\n",
       "      <td>158</td>\n",
       "      <td>0</td>\n",
       "      <td>211</td>\n",
       "      <td>313</td>\n",
       "      <td>468</td>\n",
       "      <td>597</td>\n",
       "      <td>537</td>\n",
       "      <td>511</td>\n",
       "    </tr>\n",
       "    <tr>\n",
       "      <th>5</th>\n",
       "      <td>0</td>\n",
       "      <td>378</td>\n",
       "      <td>237</td>\n",
       "      <td>181</td>\n",
       "      <td>0</td>\n",
       "      <td>0</td>\n",
       "      <td>373</td>\n",
       "      <td>511</td>\n",
       "      <td>516</td>\n",
       "      <td>503</td>\n",
       "    </tr>\n",
       "    <tr>\n",
       "      <th>6</th>\n",
       "      <td>221</td>\n",
       "      <td>487</td>\n",
       "      <td>289</td>\n",
       "      <td>301</td>\n",
       "      <td>0</td>\n",
       "      <td>0</td>\n",
       "      <td>421</td>\n",
       "      <td>498</td>\n",
       "      <td>455</td>\n",
       "      <td>481</td>\n",
       "    </tr>\n",
       "    <tr>\n",
       "      <th>7</th>\n",
       "      <td>337</td>\n",
       "      <td>565</td>\n",
       "      <td>396</td>\n",
       "      <td>640</td>\n",
       "      <td>446</td>\n",
       "      <td>423</td>\n",
       "      <td>632</td>\n",
       "      <td>555</td>\n",
       "      <td>443</td>\n",
       "      <td>456</td>\n",
       "    </tr>\n",
       "    <tr>\n",
       "      <th>8</th>\n",
       "      <td>307</td>\n",
       "      <td>304</td>\n",
       "      <td>0</td>\n",
       "      <td>369</td>\n",
       "      <td>333</td>\n",
       "      <td>407</td>\n",
       "      <td>582</td>\n",
       "      <td>565</td>\n",
       "      <td>408</td>\n",
       "      <td>371</td>\n",
       "    </tr>\n",
       "    <tr>\n",
       "      <th>9</th>\n",
       "      <td>364</td>\n",
       "      <td>428</td>\n",
       "      <td>344</td>\n",
       "      <td>563</td>\n",
       "      <td>539</td>\n",
       "      <td>522</td>\n",
       "      <td>556</td>\n",
       "      <td>481</td>\n",
       "      <td>308</td>\n",
       "      <td>245</td>\n",
       "    </tr>\n",
       "    <tr>\n",
       "      <th>10</th>\n",
       "      <td>288</td>\n",
       "      <td>345</td>\n",
       "      <td>347</td>\n",
       "      <td>460</td>\n",
       "      <td>467</td>\n",
       "      <td>384</td>\n",
       "      <td>325</td>\n",
       "      <td>236</td>\n",
       "      <td>0</td>\n",
       "      <td>0</td>\n",
       "    </tr>\n",
       "  </tbody>\n",
       "</table>\n",
       "</div>"
      ],
      "text/plain": [
       "     1    2    3    4    5    6    7    8    9    10\n",
       "1   232  270  388  496  551  560  443  461  392  253\n",
       "2   155    0  114  239  278  226    0  257  303  291\n",
       "3   177  146    0  200  358  429  409  563  490  446\n",
       "4   164  321  158    0  211  313  468  597  537  511\n",
       "5     0  378  237  181    0    0  373  511  516  503\n",
       "6   221  487  289  301    0    0  421  498  455  481\n",
       "7   337  565  396  640  446  423  632  555  443  456\n",
       "8   307  304    0  369  333  407  582  565  408  371\n",
       "9   364  428  344  563  539  522  556  481  308  245\n",
       "10  288  345  347  460  467  384  325  236    0    0"
      ]
     },
     "execution_count": 415,
     "metadata": {},
     "output_type": "execute_result"
    }
   ],
   "source": [
    "PDF"
   ]
  },
  {
   "cell_type": "code",
   "execution_count": 416,
   "metadata": {
    "collapsed": false
   },
   "outputs": [
    {
     "data": {
      "text/html": [
       "<div>\n",
       "<table border=\"1\" class=\"dataframe\">\n",
       "  <thead>\n",
       "    <tr style=\"text-align: right;\">\n",
       "      <th></th>\n",
       "      <th>1</th>\n",
       "      <th>2</th>\n",
       "      <th>3</th>\n",
       "      <th>4</th>\n",
       "      <th>5</th>\n",
       "      <th>6</th>\n",
       "      <th>7</th>\n",
       "      <th>8</th>\n",
       "      <th>9</th>\n",
       "      <th>10</th>\n",
       "    </tr>\n",
       "  </thead>\n",
       "  <tbody>\n",
       "    <tr>\n",
       "      <th>1</th>\n",
       "      <td>0.1160</td>\n",
       "      <td>0.1350</td>\n",
       "      <td>0.1940</td>\n",
       "      <td>0.2480</td>\n",
       "      <td>0.2755</td>\n",
       "      <td>0.2800</td>\n",
       "      <td>0.2215</td>\n",
       "      <td>0.2305</td>\n",
       "      <td>0.1960</td>\n",
       "      <td>0.1265</td>\n",
       "    </tr>\n",
       "    <tr>\n",
       "      <th>2</th>\n",
       "      <td>0.0775</td>\n",
       "      <td>0.0000</td>\n",
       "      <td>0.0570</td>\n",
       "      <td>0.1195</td>\n",
       "      <td>0.1390</td>\n",
       "      <td>0.1130</td>\n",
       "      <td>0.0000</td>\n",
       "      <td>0.1285</td>\n",
       "      <td>0.1515</td>\n",
       "      <td>0.1455</td>\n",
       "    </tr>\n",
       "    <tr>\n",
       "      <th>3</th>\n",
       "      <td>0.0885</td>\n",
       "      <td>0.0730</td>\n",
       "      <td>0.0000</td>\n",
       "      <td>0.1000</td>\n",
       "      <td>0.1790</td>\n",
       "      <td>0.2145</td>\n",
       "      <td>0.2045</td>\n",
       "      <td>0.2815</td>\n",
       "      <td>0.2450</td>\n",
       "      <td>0.2230</td>\n",
       "    </tr>\n",
       "    <tr>\n",
       "      <th>4</th>\n",
       "      <td>0.0820</td>\n",
       "      <td>0.1605</td>\n",
       "      <td>0.0790</td>\n",
       "      <td>0.0000</td>\n",
       "      <td>0.1055</td>\n",
       "      <td>0.1565</td>\n",
       "      <td>0.2340</td>\n",
       "      <td>0.2985</td>\n",
       "      <td>0.2685</td>\n",
       "      <td>0.2555</td>\n",
       "    </tr>\n",
       "    <tr>\n",
       "      <th>5</th>\n",
       "      <td>0.0000</td>\n",
       "      <td>0.1890</td>\n",
       "      <td>0.1185</td>\n",
       "      <td>0.0905</td>\n",
       "      <td>0.0000</td>\n",
       "      <td>0.0000</td>\n",
       "      <td>0.1865</td>\n",
       "      <td>0.2555</td>\n",
       "      <td>0.2580</td>\n",
       "      <td>0.2515</td>\n",
       "    </tr>\n",
       "    <tr>\n",
       "      <th>6</th>\n",
       "      <td>0.1105</td>\n",
       "      <td>0.2435</td>\n",
       "      <td>0.1445</td>\n",
       "      <td>0.1505</td>\n",
       "      <td>0.0000</td>\n",
       "      <td>0.0000</td>\n",
       "      <td>0.2105</td>\n",
       "      <td>0.2490</td>\n",
       "      <td>0.2275</td>\n",
       "      <td>0.2405</td>\n",
       "    </tr>\n",
       "    <tr>\n",
       "      <th>7</th>\n",
       "      <td>0.1685</td>\n",
       "      <td>0.2825</td>\n",
       "      <td>0.1980</td>\n",
       "      <td>0.3200</td>\n",
       "      <td>0.2230</td>\n",
       "      <td>0.2115</td>\n",
       "      <td>0.3160</td>\n",
       "      <td>0.2775</td>\n",
       "      <td>0.2215</td>\n",
       "      <td>0.2280</td>\n",
       "    </tr>\n",
       "    <tr>\n",
       "      <th>8</th>\n",
       "      <td>0.1535</td>\n",
       "      <td>0.1520</td>\n",
       "      <td>0.0000</td>\n",
       "      <td>0.1845</td>\n",
       "      <td>0.1665</td>\n",
       "      <td>0.2035</td>\n",
       "      <td>0.2910</td>\n",
       "      <td>0.2825</td>\n",
       "      <td>0.2040</td>\n",
       "      <td>0.1855</td>\n",
       "    </tr>\n",
       "    <tr>\n",
       "      <th>9</th>\n",
       "      <td>0.1820</td>\n",
       "      <td>0.2140</td>\n",
       "      <td>0.1720</td>\n",
       "      <td>0.2815</td>\n",
       "      <td>0.2695</td>\n",
       "      <td>0.2610</td>\n",
       "      <td>0.2780</td>\n",
       "      <td>0.2405</td>\n",
       "      <td>0.1540</td>\n",
       "      <td>0.1225</td>\n",
       "    </tr>\n",
       "    <tr>\n",
       "      <th>10</th>\n",
       "      <td>0.1440</td>\n",
       "      <td>0.1725</td>\n",
       "      <td>0.1735</td>\n",
       "      <td>0.2300</td>\n",
       "      <td>0.2335</td>\n",
       "      <td>0.1920</td>\n",
       "      <td>0.1625</td>\n",
       "      <td>0.1180</td>\n",
       "      <td>0.0000</td>\n",
       "      <td>0.0000</td>\n",
       "    </tr>\n",
       "  </tbody>\n",
       "</table>\n",
       "</div>"
      ],
      "text/plain": [
       "        1       2       3       4       5       6       7       8       9   \\\n",
       "1   0.1160  0.1350  0.1940  0.2480  0.2755  0.2800  0.2215  0.2305  0.1960   \n",
       "2   0.0775  0.0000  0.0570  0.1195  0.1390  0.1130  0.0000  0.1285  0.1515   \n",
       "3   0.0885  0.0730  0.0000  0.1000  0.1790  0.2145  0.2045  0.2815  0.2450   \n",
       "4   0.0820  0.1605  0.0790  0.0000  0.1055  0.1565  0.2340  0.2985  0.2685   \n",
       "5   0.0000  0.1890  0.1185  0.0905  0.0000  0.0000  0.1865  0.2555  0.2580   \n",
       "6   0.1105  0.2435  0.1445  0.1505  0.0000  0.0000  0.2105  0.2490  0.2275   \n",
       "7   0.1685  0.2825  0.1980  0.3200  0.2230  0.2115  0.3160  0.2775  0.2215   \n",
       "8   0.1535  0.1520  0.0000  0.1845  0.1665  0.2035  0.2910  0.2825  0.2040   \n",
       "9   0.1820  0.2140  0.1720  0.2815  0.2695  0.2610  0.2780  0.2405  0.1540   \n",
       "10  0.1440  0.1725  0.1735  0.2300  0.2335  0.1920  0.1625  0.1180  0.0000   \n",
       "\n",
       "        10  \n",
       "1   0.1265  \n",
       "2   0.1455  \n",
       "3   0.2230  \n",
       "4   0.2555  \n",
       "5   0.2515  \n",
       "6   0.2405  \n",
       "7   0.2280  \n",
       "8   0.1855  \n",
       "9   0.1225  \n",
       "10  0.0000  "
      ]
     },
     "execution_count": 416,
     "metadata": {},
     "output_type": "execute_result"
    }
   ],
   "source": [
    "PDF/n"
   ]
  },
  {
   "cell_type": "code",
   "execution_count": 417,
   "metadata": {
    "collapsed": false
   },
   "outputs": [
    {
     "data": {
      "text/plain": [
       "2000"
      ]
     },
     "execution_count": 417,
     "metadata": {},
     "output_type": "execute_result"
    }
   ],
   "source": [
    "n"
   ]
  },
  {
   "cell_type": "code",
   "execution_count": 418,
   "metadata": {
    "collapsed": false
   },
   "outputs": [],
   "source": [
    "a = np.array([[1,3,2],[8,7,9],[5,6,4]])\n",
    "#print(a)\n",
    "arr = np.where(a==a.max())\n",
    "x = arr[0]\n",
    "y = arr[1]\n",
    "#print(a[x].flatten()[y])"
   ]
  },
  {
   "cell_type": "code",
   "execution_count": 419,
   "metadata": {
    "collapsed": true
   },
   "outputs": [],
   "source": [
    "def isHit(Board, Enemies, x, y):\n",
    "    # isHit = [Board, Enemy_Ships, x, y]\n",
    "    # Board: dictionary for occupied spaces\n",
    "    # Enemies: shadow board containing all occupied spaces\n",
    "    # x, y: target x-y coordinates on board\n",
    "    # Returns: whether or not it's a hit!\n",
    "    \n",
    "    if Enemies[x,y]:\n",
    "        print('hit!')\n",
    "        return 1\n",
    "    else:\n",
    "        print('miss!')\n",
    "        return 0"
   ]
  },
  {
   "cell_type": "code",
   "execution_count": 424,
   "metadata": {
    "collapsed": false
   },
   "outputs": [],
   "source": [
    "def ShipSearch(Board, Enemy_Ships):\n",
    "    # ShipSearch = [Board, Enemy_Ships]\n",
    "    # Board: dictionary for occupied spaces\n",
    "    # Enemy_Ships: Array with ship name, length, 3rd index to place valid locations \n",
    "    #          [\"Ship_Name\", length, []]\n",
    "    # Returns: x,y coordinates of chosen spot (on board)\n",
    "    \n",
    "    # What is a good choice for N and M in NSamples?    \n",
    "    PDF,n = NSamples(2000,6000,Enemy_Ships)\n",
    "    \n",
    "    arr = np.where(PDF==max(PDF.max()))\n",
    "    x = (arr[0]+1)[0]\n",
    "    y = (arr[1]+1)[0]\n",
    "    #because max PDF[x][y] corresponds to Board[x+1][y+1]\n",
    "        \n",
    "    return x,y"
   ]
  },
  {
   "cell_type": "code",
   "execution_count": 425,
   "metadata": {
    "collapsed": false
   },
   "outputs": [
    {
     "data": {
      "text/plain": [
       "640"
      ]
     },
     "execution_count": 425,
     "metadata": {},
     "output_type": "execute_result"
    }
   ],
   "source": [
    "np.max(PDF.max())"
   ]
  },
  {
   "cell_type": "code",
   "execution_count": 426,
   "metadata": {
    "collapsed": false
   },
   "outputs": [],
   "source": [
    "x,y = ShipSearch(Board,Enemy_Ships)"
   ]
  },
  {
   "cell_type": "code",
   "execution_count": 428,
   "metadata": {
    "collapsed": false,
    "scrolled": true
   },
   "outputs": [
    {
     "name": "stdout",
     "output_type": "stream",
     "text": [
      "7\n",
      "7\n"
     ]
    }
   ],
   "source": [
    "print(x)\n",
    "print(y)\n",
    "#print(Enemy_Ships)"
   ]
  },
  {
   "cell_type": "code",
   "execution_count": 429,
   "metadata": {
    "collapsed": false
   },
   "outputs": [],
   "source": [
    "def isCollision(Field, x, y, orientation, length):\n",
    "    # isCollision = [Field, x, y, orientation, length]\n",
    "    # Field = holds grid to place ships on\n",
    "    # x , y = desired position of ship\n",
    "    # orientation = orientation of ship (0 = hoz, 1 = vert)\n",
    "    # length = length of ship\n",
    "    # Returns 1 if collision occurs, 0 if ship can be placed.\n",
    "    \n",
    "    # Out of bounds\n",
    "    if (x < 0 or y < 0 or x > 9 or y > 9):\n",
    "        return 1\n",
    "    \n",
    "    for i in range(length):\n",
    "        # Horizontal Ship\n",
    "        if (orientation == 0):\n",
    "            if y+length > 9:\n",
    "                return 1\n",
    "            if Field[x][y+i]:\n",
    "                return 1\n",
    "        #Vertical Ship\n",
    "        elif (orientation == 1):\n",
    "            if x+length > 9:\n",
    "                return 1\n",
    "            if Field[x+i][y]:\n",
    "                return 1\n",
    "    \n",
    "    return 0"
   ]
  },
  {
   "cell_type": "code",
   "execution_count": 430,
   "metadata": {
    "collapsed": false
   },
   "outputs": [],
   "source": [
    "def placeShip(Field, x, y, orientation, length):\n",
    "    # placeShip = [Field, length, orientation, x, y]\n",
    "    # Field: dictionary for occupied spaces\n",
    "    # x , y = desired position of ship\n",
    "    # orientation = orientation of ship (0 = hoz, 1 = vert)\n",
    "    # length: length of ship to be placed\n",
    "    # Returns: 1 if ship was placed, 0 otherwise\n",
    "    #          and updates Field\n",
    "    \n",
    "    # Note: the initial point of the ship is at (x,y) and the rest of\n",
    "    #         the ship is at (x+length,y) for vertical placement and\n",
    "    #         (x,y+length) for horizontal placement\n",
    "    \n",
    "    if isCollision(Field, x, y, orientation, length):\n",
    "        return 0\n",
    "    else:\n",
    "        for i in range(length):   \n",
    "            # Vertical Ship\n",
    "            if (orientation == 1):\n",
    "                Field[x+i][y] = 1\n",
    "            #Horizontal Ship\n",
    "            elif (orientation == 0):\n",
    "                Field[x][y+i] = 1\n",
    "        return 1"
   ]
  },
  {
   "cell_type": "code",
   "execution_count": 431,
   "metadata": {
    "collapsed": true
   },
   "outputs": [],
   "source": [
    "##### Initialize Actual Enemies"
   ]
  },
  {
   "cell_type": "code",
   "execution_count": 432,
   "metadata": {
    "collapsed": false
   },
   "outputs": [
    {
     "name": "stdout",
     "output_type": "stream",
     "text": [
      "[[ 1.  1.  1.  1.  1.  0.  0.  0.  0.  1.]\n",
      " [ 0.  0.  0.  0.  0.  0.  0.  0.  0.  1.]\n",
      " [ 0.  0.  0.  0.  0.  0.  0.  0.  0.  1.]\n",
      " [ 0.  0.  0.  0.  0.  0.  0.  0.  0.  1.]\n",
      " [ 0.  0.  0.  0.  1.  1.  1.  0.  0.  0.]\n",
      " [ 0.  0.  0.  0.  0.  1.  1.  1.  0.  0.]\n",
      " [ 0.  0.  0.  0.  0.  0.  0.  0.  0.  0.]\n",
      " [ 0.  0.  0.  0.  0.  0.  0.  0.  0.  0.]\n",
      " [ 0.  0.  1.  1.  0.  0.  0.  0.  0.  0.]\n",
      " [ 0.  0.  0.  0.  0.  0.  0.  0.  0.  0.]]\n"
     ]
    }
   ],
   "source": [
    "Enemies = np.zeros((10,10))\n",
    "#5 4 3 3 2\n",
    "placed = placeShip(Enemies,0,0,0,5)\n",
    "# print(placed)\n",
    "placed = placeShip(Enemies,0,9,1,4)\n",
    "placeShip(Enemies,4,4,0,3)\n",
    "placeShip(Enemies,5,5,0,3)\n",
    "placeShip(Enemies,8,2,0,2)\n",
    "print(Enemies)\n"
   ]
  },
  {
   "cell_type": "code",
   "execution_count": 438,
   "metadata": {
    "collapsed": false
   },
   "outputs": [],
   "source": [
    "# ShipQueueX = []\n",
    "# ShipQueueY = []\n",
    "# Enemies = np.zeros((10,10))\n",
    "# if isHit(Board,Enemies,x,y):\n",
    "#     ShipQueueX = np.append(ShipQueueX,x)\n",
    "#     ShipQueueY = np.append(ShipQueueY,y)\n",
    "\n",
    "# print(ShipQueueX)\n",
    "# print(ShipQueueY)\n",
    "\n",
    "# Enemies = np.ones((10,10))\n",
    "# if isHit(Board,Enemies,x,y):\n",
    "#     ShipQueueX = np.append(ShipQueueX,x)\n",
    "#     ShipQueueY = np.append(ShipQueueY,y)\n",
    "    \n",
    "# print(ShipQueueX)\n",
    "# print(ShipQueueY)\n",
    "    \n",
    "# if isHit(Board,Enemies,x,y):\n",
    "#     ShipQueueX = np.append(ShipQueueX,x)\n",
    "#     ShipQueueY = np.append(ShipQueueY,y)\n",
    "\n",
    "# print(ShipQueueX)\n",
    "# print(ShipQueueY)"
   ]
  },
  {
   "cell_type": "code",
   "execution_count": 439,
   "metadata": {
    "collapsed": false
   },
   "outputs": [
    {
     "name": "stdout",
     "output_type": "stream",
     "text": [
      "miss!\n",
      "hit!\n"
     ]
    }
   ],
   "source": [
    "ShipQueueX = []\n",
    "ShipQueueY = []\n",
    "\n",
    "if isHit(Board,Enemies,x,y):\n",
    "    ShipQueueX = np.append(ShipQueueX,x)\n",
    "    ShipQueueY = np.append(ShipQueueY,y)\n",
    "\n",
    "x=0\n",
    "y=0\n",
    "\n",
    "if isHit(Board,Enemies,x,y):\n",
    "    ShipQueueX = np.append(ShipQueueX,x)\n",
    "    ShipQueueY = np.append(ShipQueueY,y)\n"
   ]
  },
  {
   "cell_type": "code",
   "execution_count": 440,
   "metadata": {
    "collapsed": false
   },
   "outputs": [
    {
     "name": "stdout",
     "output_type": "stream",
     "text": [
      "[ 0.]\n",
      "[ 0.]\n"
     ]
    }
   ],
   "source": [
    "print(ShipQueueX)\n",
    "print(ShipQueueY)"
   ]
  },
  {
   "cell_type": "code",
   "execution_count": 435,
   "metadata": {
    "collapsed": true
   },
   "outputs": [],
   "source": [
    "def ShipSink(Board, Enemy_Ships, ShipQueue):\n",
    "    # ShipSink = [Board, Enemy_Ships]\n",
    "    # Board: dictionary for occupied spaces\n",
    "    # Enemy_Ships: Array with ship name, length, 3rd index to place valid locations \n",
    "    #          [\"Ship_Name\", length, []]\n",
    "    # Returns: x,y coordinates of chosen spot (on board)\n",
    "    return 1"
   ]
  },
  {
   "cell_type": "code",
   "execution_count": 436,
   "metadata": {
    "collapsed": true
   },
   "outputs": [],
   "source": [
    "# if len(ShipQueue) == 0:\n",
    "#     ShipSearch(Board,Enemy_Ships)\n",
    "# else:\n",
    "#     ShipSink(Board,Enemy_Ships,ShipQueue)"
   ]
  },
  {
   "cell_type": "markdown",
   "metadata": {},
   "source": [
    "### To Do"
   ]
  },
  {
   "cell_type": "markdown",
   "metadata": {},
   "source": [
    "1. Code should be divided into \"Ship Search\" and \"Ship Sink\" methods\n",
    "    * Ship Search - tries to find ship to sink (mostly written)\n",
    "    * Ship Sink - tries to sink ship when one is found (need to write)\n",
    "2. Find space with highest probability to shoot into for \"Ship Search\"\n",
    "3. Write \"Ship Sink\" method\n",
    "    * If enemy ship is hit, iterate through list of possible ships that were hit to find most likely direction to start testing\n",
    "    * Edge cases very important. Possible to hit multiple ships in trying tosink one so \"ship sunk\" queue very important\n",
    "    "
   ]
  }
 ],
 "metadata": {
  "anaconda-cloud": {},
  "kernelspec": {
   "display_name": "Python 3",
   "language": "python",
   "name": "python3"
  },
  "language_info": {
   "codemirror_mode": {
    "name": "ipython",
    "version": 3
   },
   "file_extension": ".py",
   "mimetype": "text/x-python",
   "name": "python",
   "nbconvert_exporter": "python",
   "pygments_lexer": "ipython3",
   "version": "3.6.0"
  }
 },
 "nbformat": 4,
 "nbformat_minor": 1
}
