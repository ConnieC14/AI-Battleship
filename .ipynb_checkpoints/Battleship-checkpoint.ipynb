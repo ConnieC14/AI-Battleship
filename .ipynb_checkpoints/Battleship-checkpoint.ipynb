{
 "cells": [
  {
   "cell_type": "code",
   "execution_count": 1,
   "metadata": {
    "collapsed": true
   },
   "outputs": [],
   "source": [
    "import copy\n",
    "import random\n",
    "import pandas as pd\n",
    "import numpy as np\n",
    "import time\n",
    "import random\n",
    "from IPython.display import clear_output"
   ]
  },
  {
   "cell_type": "markdown",
   "metadata": {},
   "source": [
    "# Battleship"
   ]
  },
  {
   "cell_type": "markdown",
   "metadata": {},
   "source": [
    "Rules:\n",
    "1. Each player arranges ships according to fleet\n",
    "2. Take turns firing a shot\n",
    "3. Mark Hits and Misses\n",
    "4. Call out when a ship has been sunk\n",
    "5. Sink all to win"
   ]
  },
  {
   "cell_type": "markdown",
   "metadata": {},
   "source": [
    "Ships:\n",
    "1. Carrier - 5\n",
    "2. Battleship - 4\n",
    "3. Cruiser - 3\n",
    "4. Submarine - 3\n",
    "5. Destroyer -2"
   ]
  },
  {
   "cell_type": "markdown",
   "metadata": {},
   "source": [
    "10 Rows x 10 Columns  \n",
    "\n",
    "|   |   |   |   |   |   |   |   |   |   |\n",
    "|---|---|---|---|---|---|---|---|---|---|\n",
    "|   |   |   |   |   |   |   |   |   |   |\n",
    "|   |   |   |   |   |   |   |   |   |   |\n",
    "|   |   |   |   |   |   |   |   |   |   |\n",
    "|   |   |   |   |   |   |   |   |   |   |\n",
    "|   |   |   |   |   |   |   |   |   |   |\n",
    "|   |   |   |   |   |   |   |   |   |   |\n",
    "|   |   |   |   |   |   |   |   |   |   |\n",
    "|   |   |   |   |   |   |   |   |   |   |\n",
    "|   |   |   |   |   |   |   |   |   |   |"
   ]
  },
  {
   "cell_type": "markdown",
   "metadata": {},
   "source": [
    "##### Parameters"
   ]
  },
  {
   "cell_type": "code",
   "execution_count": 2,
   "metadata": {
    "collapsed": true
   },
   "outputs": [],
   "source": [
    "Enemy_Ships = [[\"Carrier\", 5, []],\n",
    "               [\"Battleship\", 4, []],\n",
    "               [\"Cruiser\", 3, []],\n",
    "               [\"Submarine\", 3, []],\n",
    "               [\"Destroyer\", 2, []]]"
   ]
  },
  {
   "cell_type": "markdown",
   "metadata": {},
   "source": [
    "##### Helper Functions"
   ]
  },
  {
   "cell_type": "code",
   "execution_count": 3,
   "metadata": {
    "collapsed": true
   },
   "outputs": [],
   "source": [
    "# Is current proposed ship allocation valid?\n",
    "\n",
    "def ValidPlacement(Board, i, j, k, length):\n",
    "    # Board = Dictionary for Board\n",
    "    # i = row of ship\n",
    "    # j = column of ship\n",
    "    # k = orientation of ship (0 = hoz, 1 = vert)\n",
    "    # length = length of ship\n",
    "    \n",
    "    #Horizontal Ship\n",
    "    if (k == 0):\n",
    "        if (j>11-length):\n",
    "            return 0\n",
    "        else:\n",
    "            occupied = 0\n",
    "            for l in range(length):\n",
    "                occupied = occupied + Board[i][j+l]\n",
    "            if(occupied == 0):\n",
    "                return 1\n",
    "            else:\n",
    "                return 0\n",
    "            \n",
    "    #Vertical Ship\n",
    "    if (k == 1):\n",
    "        if (i>11-length):\n",
    "            return 0\n",
    "        else:\n",
    "            occupied = 0\n",
    "            for l in range(length):\n",
    "                occupied = occupied + Board[i+l][j]\n",
    "            if(occupied == 0):\n",
    "                return 1\n",
    "            else:\n",
    "                return 0"
   ]
  },
  {
   "cell_type": "code",
   "execution_count": 4,
   "metadata": {
    "collapsed": true
   },
   "outputs": [],
   "source": [
    "def ValidLocations(Board, Ship_List):\n",
    "    #Wri\n",
    "    #Board: dictionary for occupied spaces\n",
    "    #Ship_List: Array with ship name, length, 3rd index to place valid locations \n",
    "    #          [\"Ship_Name\", length, []]\n",
    "    \n",
    "    for s in range(len(Ship_List)):\n",
    "        valid_placements = []\n",
    "        Ship = Ship_List[s]\n",
    "        length = Ship[1]\n",
    "\n",
    "        for i in range(1,11):\n",
    "            for j in range(1,11):\n",
    "                for k in range(2):\n",
    "                     if (ValidPlacement(Board,i,j,k,length)==1):\n",
    "                            valid_placements.append([i,j,k])\n",
    "        Ship[2] = valid_placements"
   ]
  },
  {
   "cell_type": "code",
   "execution_count": 5,
   "metadata": {
    "collapsed": false
   },
   "outputs": [],
   "source": [
    "def SpacesOccupied(length,location):\n",
    "    #length = length of ship\n",
    "    #location = [i,j,k]\n",
    "    #Returns list of spaces occupied by ship\n",
    "    \n",
    "    occupied = []\n",
    "    i,j,k = location\n",
    "    \n",
    "    if (k==0):\n",
    "        for l in range(length):\n",
    "            occupied.append((i,j+l))\n",
    "    if (k==1):\n",
    "        for l in range(length):\n",
    "            occupied.append((i+l,j))\n",
    "        \n",
    "    return occupied"
   ]
  },
  {
   "cell_type": "code",
   "execution_count": 6,
   "metadata": {
    "collapsed": true
   },
   "outputs": [],
   "source": [
    "def RandomSample(Ship_List):\n",
    "    # Ship_List = [\"Ship_Name\", length, locations]\n",
    "    # Return: Data frame of board with 1s for ship positions\n",
    "    #        or all 0s if not a valid arrangement\n",
    "    \n",
    "    PDF = pd.DataFrame(index=range(1,11), columns=range(1,11))\n",
    "    PDF = PDF.fillna(0) # with 0s rather than NaNs\n",
    "    \n",
    "    locations = []\n",
    "    for s in range(len(Ship_List)):\n",
    "        Ship = Ship_List[s]\n",
    "        position = random.choice(Ship[2])\n",
    "        spaces = SpacesOccupied(Ship[1],position)\n",
    "        locations.extend(spaces)\n",
    "    #Check if valid configuration\n",
    "    if(len(locations) == len(set(locations))):\n",
    "        for t in locations:\n",
    "            PDF.loc[t] = 1\n",
    "        return PDF\n",
    "    else:\n",
    "        return False        "
   ]
  },
  {
   "cell_type": "code",
   "execution_count": 7,
   "metadata": {
    "collapsed": true
   },
   "outputs": [],
   "source": [
    "def NSamples(N,M,Ship_List):\n",
    "    #N = Number of samples wanted\n",
    "    #M = Max number of iterations\n",
    "    #Ship_List = [\"Ship_Name\", length, locations]\n",
    "    #Returns: (DF, S) Data frame of accumulated possible locations and number of actual samples taken\n",
    "    \n",
    "    PDF = pd.DataFrame(index=range(1,11), columns=range(1,11))\n",
    "    PDF = PDF.fillna(0) # with 0s rather than NaNs\n",
    "    n = 0\n",
    "    m = 0\n",
    "    while( (n<N) & (m<M) ):\n",
    "        m = m + 1\n",
    "        Result = RandomSample(Ship_List)\n",
    "        if (type(Result) != bool):\n",
    "            PDF = PDF + Result\n",
    "            n = n+1\n",
    "    \n",
    "    return(PDF,n)"
   ]
  },
  {
   "cell_type": "markdown",
   "metadata": {
    "collapsed": true
   },
   "source": [
    "##### Initialize Board"
   ]
  },
  {
   "cell_type": "code",
   "execution_count": 8,
   "metadata": {
    "collapsed": false
   },
   "outputs": [],
   "source": [
    "def initBoard():\n",
    "    Board = {}\n",
    "    for i in range(1,11):\n",
    "        Board[i] = {}\n",
    "        for j in range(1,11):\n",
    "            Board[i][j] = 0 \n",
    "            \n",
    "    return Board"
   ]
  },
  {
   "cell_type": "code",
   "execution_count": 9,
   "metadata": {
    "collapsed": true
   },
   "outputs": [],
   "source": [
    "Board = initBoard()"
   ]
  },
  {
   "cell_type": "markdown",
   "metadata": {},
   "source": [
    "##### Example"
   ]
  },
  {
   "cell_type": "code",
   "execution_count": 10,
   "metadata": {
    "collapsed": false
   },
   "outputs": [],
   "source": [
    "Board[5][5] = 1\n",
    "Board[5][6] = 1\n",
    "Board[6][5] = 1\n",
    "Board[6][6] = 1\n",
    "\n",
    "Board[2][2] = 1\n",
    "Board[3][3] = 1\n",
    "Board[4][4] = 1\n",
    "Board[5][1] = 1\n",
    "\n",
    "Board[10][10] = 1\n",
    "Board[8][3] = 1\n",
    "Board[2][7] = 1\n",
    "Board[10][9] = 1"
   ]
  },
  {
   "cell_type": "code",
   "execution_count": 11,
   "metadata": {
    "collapsed": false
   },
   "outputs": [],
   "source": [
    "def dispBoard(Board):\n",
    "    #Board: dictionary for occupied spaces\n",
    "\n",
    "    DispBoard = np.zeros((10,10))\n",
    "\n",
    "    for i in range(1,11):\n",
    "        for j in range(1,11):\n",
    "            if Board[i][j] == 0:\n",
    "                DispBoard[i-1][j-1] = 0\n",
    "            else:\n",
    "                DispBoard[i-1][j-1] = 1\n",
    "\n",
    "    print(DispBoard)"
   ]
  },
  {
   "cell_type": "code",
   "execution_count": 12,
   "metadata": {
    "collapsed": false
   },
   "outputs": [],
   "source": [
    "ValidLocations(Board, Enemy_Ships)"
   ]
  },
  {
   "cell_type": "code",
   "execution_count": 13,
   "metadata": {
    "collapsed": false,
    "scrolled": true
   },
   "outputs": [],
   "source": [
    "PDF,n = NSamples(2000,6000,Enemy_Ships)"
   ]
  },
  {
   "cell_type": "code",
   "execution_count": 14,
   "metadata": {
    "collapsed": false
   },
   "outputs": [],
   "source": [
    "# PDF"
   ]
  },
  {
   "cell_type": "code",
   "execution_count": 15,
   "metadata": {
    "collapsed": false
   },
   "outputs": [
    {
     "data": {
      "text/html": [
       "<div>\n",
       "<table border=\"1\" class=\"dataframe\">\n",
       "  <thead>\n",
       "    <tr style=\"text-align: right;\">\n",
       "      <th></th>\n",
       "      <th>1</th>\n",
       "      <th>2</th>\n",
       "      <th>3</th>\n",
       "      <th>4</th>\n",
       "      <th>5</th>\n",
       "      <th>6</th>\n",
       "      <th>7</th>\n",
       "      <th>8</th>\n",
       "      <th>9</th>\n",
       "      <th>10</th>\n",
       "    </tr>\n",
       "  </thead>\n",
       "  <tbody>\n",
       "    <tr>\n",
       "      <th>1</th>\n",
       "      <td>0.1135</td>\n",
       "      <td>0.1320</td>\n",
       "      <td>0.1870</td>\n",
       "      <td>0.2290</td>\n",
       "      <td>0.2550</td>\n",
       "      <td>0.2555</td>\n",
       "      <td>0.1995</td>\n",
       "      <td>0.2255</td>\n",
       "      <td>0.1825</td>\n",
       "      <td>0.1475</td>\n",
       "    </tr>\n",
       "    <tr>\n",
       "      <th>2</th>\n",
       "      <td>0.0845</td>\n",
       "      <td>0.0000</td>\n",
       "      <td>0.0585</td>\n",
       "      <td>0.1215</td>\n",
       "      <td>0.1515</td>\n",
       "      <td>0.1080</td>\n",
       "      <td>0.0000</td>\n",
       "      <td>0.1250</td>\n",
       "      <td>0.1350</td>\n",
       "      <td>0.1645</td>\n",
       "    </tr>\n",
       "    <tr>\n",
       "      <th>3</th>\n",
       "      <td>0.0950</td>\n",
       "      <td>0.0725</td>\n",
       "      <td>0.0000</td>\n",
       "      <td>0.0930</td>\n",
       "      <td>0.1920</td>\n",
       "      <td>0.2195</td>\n",
       "      <td>0.2205</td>\n",
       "      <td>0.2720</td>\n",
       "      <td>0.2395</td>\n",
       "      <td>0.2325</td>\n",
       "    </tr>\n",
       "    <tr>\n",
       "      <th>4</th>\n",
       "      <td>0.0845</td>\n",
       "      <td>0.1715</td>\n",
       "      <td>0.0775</td>\n",
       "      <td>0.0000</td>\n",
       "      <td>0.1040</td>\n",
       "      <td>0.1545</td>\n",
       "      <td>0.2560</td>\n",
       "      <td>0.2955</td>\n",
       "      <td>0.2735</td>\n",
       "      <td>0.2535</td>\n",
       "    </tr>\n",
       "    <tr>\n",
       "      <th>5</th>\n",
       "      <td>0.0000</td>\n",
       "      <td>0.2065</td>\n",
       "      <td>0.1100</td>\n",
       "      <td>0.0920</td>\n",
       "      <td>0.0000</td>\n",
       "      <td>0.0000</td>\n",
       "      <td>0.1870</td>\n",
       "      <td>0.2320</td>\n",
       "      <td>0.2370</td>\n",
       "      <td>0.2505</td>\n",
       "    </tr>\n",
       "    <tr>\n",
       "      <th>6</th>\n",
       "      <td>0.1105</td>\n",
       "      <td>0.2630</td>\n",
       "      <td>0.1345</td>\n",
       "      <td>0.1680</td>\n",
       "      <td>0.0000</td>\n",
       "      <td>0.0000</td>\n",
       "      <td>0.2175</td>\n",
       "      <td>0.2325</td>\n",
       "      <td>0.2365</td>\n",
       "      <td>0.2330</td>\n",
       "    </tr>\n",
       "    <tr>\n",
       "      <th>7</th>\n",
       "      <td>0.1605</td>\n",
       "      <td>0.2900</td>\n",
       "      <td>0.1890</td>\n",
       "      <td>0.3260</td>\n",
       "      <td>0.2290</td>\n",
       "      <td>0.2190</td>\n",
       "      <td>0.3320</td>\n",
       "      <td>0.3090</td>\n",
       "      <td>0.2560</td>\n",
       "      <td>0.2235</td>\n",
       "    </tr>\n",
       "    <tr>\n",
       "      <th>8</th>\n",
       "      <td>0.1415</td>\n",
       "      <td>0.1610</td>\n",
       "      <td>0.0000</td>\n",
       "      <td>0.2000</td>\n",
       "      <td>0.1780</td>\n",
       "      <td>0.2015</td>\n",
       "      <td>0.2975</td>\n",
       "      <td>0.2865</td>\n",
       "      <td>0.2095</td>\n",
       "      <td>0.1715</td>\n",
       "    </tr>\n",
       "    <tr>\n",
       "      <th>9</th>\n",
       "      <td>0.1700</td>\n",
       "      <td>0.2175</td>\n",
       "      <td>0.1725</td>\n",
       "      <td>0.2840</td>\n",
       "      <td>0.2695</td>\n",
       "      <td>0.2520</td>\n",
       "      <td>0.2640</td>\n",
       "      <td>0.2540</td>\n",
       "      <td>0.1565</td>\n",
       "      <td>0.1195</td>\n",
       "    </tr>\n",
       "    <tr>\n",
       "      <th>10</th>\n",
       "      <td>0.1150</td>\n",
       "      <td>0.1665</td>\n",
       "      <td>0.1805</td>\n",
       "      <td>0.2440</td>\n",
       "      <td>0.2210</td>\n",
       "      <td>0.1780</td>\n",
       "      <td>0.1500</td>\n",
       "      <td>0.1115</td>\n",
       "      <td>0.0000</td>\n",
       "      <td>0.0000</td>\n",
       "    </tr>\n",
       "  </tbody>\n",
       "</table>\n",
       "</div>"
      ],
      "text/plain": [
       "        1       2       3       4       5       6       7       8       9   \\\n",
       "1   0.1135  0.1320  0.1870  0.2290  0.2550  0.2555  0.1995  0.2255  0.1825   \n",
       "2   0.0845  0.0000  0.0585  0.1215  0.1515  0.1080  0.0000  0.1250  0.1350   \n",
       "3   0.0950  0.0725  0.0000  0.0930  0.1920  0.2195  0.2205  0.2720  0.2395   \n",
       "4   0.0845  0.1715  0.0775  0.0000  0.1040  0.1545  0.2560  0.2955  0.2735   \n",
       "5   0.0000  0.2065  0.1100  0.0920  0.0000  0.0000  0.1870  0.2320  0.2370   \n",
       "6   0.1105  0.2630  0.1345  0.1680  0.0000  0.0000  0.2175  0.2325  0.2365   \n",
       "7   0.1605  0.2900  0.1890  0.3260  0.2290  0.2190  0.3320  0.3090  0.2560   \n",
       "8   0.1415  0.1610  0.0000  0.2000  0.1780  0.2015  0.2975  0.2865  0.2095   \n",
       "9   0.1700  0.2175  0.1725  0.2840  0.2695  0.2520  0.2640  0.2540  0.1565   \n",
       "10  0.1150  0.1665  0.1805  0.2440  0.2210  0.1780  0.1500  0.1115  0.0000   \n",
       "\n",
       "        10  \n",
       "1   0.1475  \n",
       "2   0.1645  \n",
       "3   0.2325  \n",
       "4   0.2535  \n",
       "5   0.2505  \n",
       "6   0.2330  \n",
       "7   0.2235  \n",
       "8   0.1715  \n",
       "9   0.1195  \n",
       "10  0.0000  "
      ]
     },
     "execution_count": 15,
     "metadata": {},
     "output_type": "execute_result"
    }
   ],
   "source": [
    "PDF/n"
   ]
  },
  {
   "cell_type": "code",
   "execution_count": 16,
   "metadata": {
    "collapsed": false
   },
   "outputs": [],
   "source": [
    "# n"
   ]
  },
  {
   "cell_type": "code",
   "execution_count": 17,
   "metadata": {
    "collapsed": false
   },
   "outputs": [],
   "source": [
    "# a = np.array([[1,3,2],[8,7,9],[5,6,4]])\n",
    "# #print(a)\n",
    "# arr = np.where(a==a.max())\n",
    "# x = arr[0]\n",
    "# y = arr[1]\n",
    "# #print(a[x].flatten()[y])"
   ]
  },
  {
   "cell_type": "code",
   "execution_count": 18,
   "metadata": {
    "collapsed": true
   },
   "outputs": [],
   "source": [
    "def isHit(Enemies, x, y):\n",
    "    # isHit = [Enemies, x, y]\n",
    "    # Enemies: shadow board containing all occupied spaces\n",
    "    # x, y: target x-y coordinates on board\n",
    "    # Returns: whether or not it's a hit!\n",
    "    \n",
    "    if Enemies[x,y]:\n",
    "        print('hit!')\n",
    "        return 1\n",
    "    else:\n",
    "        print('miss!')\n",
    "        return 0"
   ]
  },
  {
   "cell_type": "code",
   "execution_count": 19,
   "metadata": {
    "collapsed": false
   },
   "outputs": [],
   "source": [
    "def ShipSearch(Board, Enemy_Ships):\n",
    "    # ShipSearch = [Board, Enemy_Ships]\n",
    "    # Board: dictionary for occupied spaces\n",
    "    # Enemy_Ships: Array with ship name, length, 3rd index to place valid locations \n",
    "    #          [\"Ship_Name\", length, []]\n",
    "    # Returns: x,y coordinates of chosen spot (on board)\n",
    "    \n",
    "    # What is a good choice for N and M in NSamples?\n",
    "    ValidLocations(Board, Enemy_Ships)\n",
    "    PDF,n = NSamples(2000,6000,Enemy_Ships)\n",
    "    \n",
    "    arr = np.where(PDF==max(PDF.max()))\n",
    "    x = (arr[0]+1)[0]\n",
    "    y = (arr[1]+1)[0]\n",
    "    #because max PDF[x][y] corresponds to Board[x+1][y+1]\n",
    "        \n",
    "    return x,y"
   ]
  },
  {
   "cell_type": "code",
   "execution_count": 20,
   "metadata": {
    "collapsed": false
   },
   "outputs": [],
   "source": [
    "# np.max(PDF.max())"
   ]
  },
  {
   "cell_type": "code",
   "execution_count": 21,
   "metadata": {
    "collapsed": false
   },
   "outputs": [
    {
     "data": {
      "text/plain": [
       "(7, 7)"
      ]
     },
     "execution_count": 21,
     "metadata": {},
     "output_type": "execute_result"
    }
   ],
   "source": [
    "ShipSearch(Board,Enemy_Ships)\n",
    "# Board[x][y] = 1"
   ]
  },
  {
   "cell_type": "code",
   "execution_count": 22,
   "metadata": {
    "collapsed": false,
    "scrolled": true
   },
   "outputs": [],
   "source": [
    "# print(x)\n",
    "# print(y)\n",
    "# #print(Enemy_Ships)"
   ]
  },
  {
   "cell_type": "code",
   "execution_count": 23,
   "metadata": {
    "collapsed": false
   },
   "outputs": [],
   "source": [
    "def isCollision(Field, x, y, orientation, length):\n",
    "    # isCollision = [Field, x, y, orientation, length]\n",
    "    # Field = holds grid to place ships on\n",
    "    # x , y = desired position of ship\n",
    "    # orientation = orientation of ship (0 = hoz, 1 = vert)\n",
    "    # length = length of ship\n",
    "    # Returns 1 if collision occurs, 0 if ship can be placed.\n",
    "    \n",
    "    # Out of bounds\n",
    "    if (x < 0 or y < 0 or x > 9 or y > 9):\n",
    "        return 1\n",
    "    \n",
    "    for i in range(length):\n",
    "        # Horizontal Ship\n",
    "        if (orientation == 0):\n",
    "            if y+length > 9:\n",
    "                return 1\n",
    "            if Field[x][y+i]:\n",
    "                return 1\n",
    "        #Vertical Ship\n",
    "        elif (orientation == 1):\n",
    "            if x+length > 9:\n",
    "                return 1\n",
    "            if Field[x+i][y]:\n",
    "                return 1\n",
    "    \n",
    "    return 0"
   ]
  },
  {
   "cell_type": "code",
   "execution_count": 24,
   "metadata": {
    "collapsed": false
   },
   "outputs": [],
   "source": [
    "def placeShip(Field, x, y, orientation, length):\n",
    "    # placeShip = [Field, length, orientation, x, y]\n",
    "    # Field: dictionary for occupied spaces\n",
    "    # x , y = desired position of ship\n",
    "    # orientation = orientation of ship (0 = hoz, 1 = vert)\n",
    "    # length: length of ship to be placed\n",
    "    # Returns: 1 if ship was placed, 0 otherwise\n",
    "    #          and updates Field\n",
    "    \n",
    "    # Note: the initial point of the ship is at (x,y) and the rest of\n",
    "    #         the ship is at (x+length,y) for vertical placement and\n",
    "    #         (x,y+length) for horizontal placement\n",
    "    \n",
    "    if isCollision(Field, x, y, orientation, length):\n",
    "        return 0\n",
    "    else:\n",
    "        for i in range(length):   \n",
    "            # Vertical Ship\n",
    "            if (orientation == 1):\n",
    "                Field[x+i][y] = 1\n",
    "            #Horizontal Ship\n",
    "            elif (orientation == 0):\n",
    "                Field[x][y+i] = 1\n",
    "        return 1"
   ]
  },
  {
   "cell_type": "code",
   "execution_count": 25,
   "metadata": {
    "collapsed": false
   },
   "outputs": [],
   "source": [
    "def initShips():\n",
    "    Ships = np.zeros((10,10))\n",
    "    s = [5, 4, 3, 3, 2]\n",
    "    \n",
    "    for i in range(len(s)):\n",
    "        placed = 0\n",
    "        while not placed:\n",
    "            x = random.randint(0,9)\n",
    "            y = random.randint(0,9)\n",
    "            o = random.randint(0,1)\n",
    "            placed = placeShip(Ships,x,y,o,s[i])\n",
    "    \n",
    "    return Ships"
   ]
  },
  {
   "cell_type": "code",
   "execution_count": 26,
   "metadata": {
    "collapsed": false
   },
   "outputs": [],
   "source": [
    "def initEnemyShips():\n",
    "    Enemy_ = np.zeros((10,10))\n",
    "    s = [5, 4, 3, 3, 2]\n",
    "    n = [\"Carrier\",\"Battleship\",\"Cruiser\",\"Submarine\",\"Destroyer\"]\n",
    "    print(\"Place your ships!\\n\")\n",
    "    print(\"\"\"\n",
    "    length: length of ship to be placed.\n",
    "    orientation = orientation of ship (0 = hoz, 1 = vert).\n",
    "    x , y = desired position of ship\n",
    "    Note: the initial point of the ship is at (x,y) and the rest\n",
    "          of the ship will go vertically downwards or horizontally\n",
    "          to the right.\\n\n",
    "              \"\"\")\n",
    "    \n",
    "    for i in range(len(s)):\n",
    "        placed = 0\n",
    "        clear_output()\n",
    "        print(Enemies)\n",
    "        print(\"\\n\")\n",
    "        while not placed:\n",
    "            x = random.randint(0,9)\n",
    "            y = random.randint(0,9)\n",
    "            o = random.randint(0,1)\n",
    "            placed = placeShip(Ships,x,y,o,s[i])\n",
    "            print(\"Your \" + n[i]  + \" of length \" + str(s[i])\n",
    "                  + \" has not or could not be placed.\\n\")\n",
    "            xStr = input(\"Please input the desired x coordinate\\n\")\n",
    "            x = int(xStr)-1\n",
    "            while not (x >= 0 and x <= 9):\n",
    "                xStr = input(\"That is an invalid x coordinate\\n\")\n",
    "                x = int(xStr)\n",
    "            yStr = input(\"Please input the desired y coordinate\\n\")\n",
    "            y = int(yStr)-1\n",
    "            while not (y >= 0 and y <= 9):\n",
    "                yStr = input(\"That is an invalid y coordinate\\n\")\n",
    "                y = int(yStr)-1\n",
    "            oStr = input(\"Please input the desired orientation\\n\")\n",
    "            o = int(oStr)\n",
    "            while not (o == 0 or o == 1):\n",
    "                oStr = input(\"That is an invalid orientation\\n\")\n",
    "                o = int(oStr)\n",
    "            placed = placeShip(Enemies,x,y,o,s[i])\n",
    "    \n",
    "    return Enemies"
   ]
  },
  {
   "cell_type": "code",
   "execution_count": 27,
   "metadata": {
    "collapsed": true
   },
   "outputs": [],
   "source": [
    "def ShipSink(Board, Enemy_Ships, ShipQueue):\n",
    "    # ShipSink = [Board, Enemy_Ships]\n",
    "    # Board: dictionary for occupied spaces\n",
    "    # Enemy_Ships: Array with ship name, length, 3rd index to place valid locations \n",
    "    #          [\"Ship_Name\", length, []]\n",
    "    # Returns: x,y coordinates of chosen spot (on board)\n",
    "    \n",
    "    \n",
    "    return 1"
   ]
  },
  {
   "cell_type": "code",
   "execution_count": 28,
   "metadata": {
    "collapsed": true
   },
   "outputs": [],
   "source": [
    "# print(\"hihihi\")\n",
    "# time.sleep(2)\n",
    "# clear_output()\n",
    "# print(\"helloooo\")"
   ]
  },
  {
   "cell_type": "code",
   "execution_count": 29,
   "metadata": {
    "collapsed": false
   },
   "outputs": [],
   "source": [
    "# Take a turn\n",
    "#     if len(ShipQueue) == 0:\n",
    "#         ShipSearch(Board,Enemy_Ships)\n",
    "#     else:\n",
    "#         ShipSink(Board,Enemy_Ships,ShipQueue)\n",
    "def AITurn(Board,Enemy_Ships,Enemies,ShipQueueX,ShipQueueY):\n",
    "    x,y = ShipSearch(Board,Enemy_Ships)\n",
    "    Board[y][x] = 1\n",
    "    print(\"The AI has targeted (\" + str(x) + \", \" + str(y) + \").\")\n",
    "    if isHit(Enemies,x,y):\n",
    "        ShipQueueX = np.append(ShipQueueX,x)\n",
    "        ShipQueueY = np.append(ShipQueueY,y)"
   ]
  },
  {
   "cell_type": "code",
   "execution_count": null,
   "metadata": {
    "collapsed": true
   },
   "outputs": [],
   "source": [
    "# Player's turn\n",
    "def PlayerTurn(Board,AI_Ships):\n",
    "    xStr = input(\"Please input the x coordinate you'd like to target\\n\")\n",
    "    x = int(xStr)\n",
    "    while not (x >= 1 and x <= 10):\n",
    "        xStr = input(\"That is an invalid x coordinate\\n\")\n",
    "        x = int(xStr)\n",
    "    yStr = input(\"Please input the y coordinate you'd like to target\\n\")\n",
    "    y = int(yStr)\n",
    "    while not (y >= 1 and y <= 10):\n",
    "        yStr = input(\"That is an invalid x coordinate\\n\")\n",
    "        y = int(yStr)\n",
    "    Board[y][x] = 1\n",
    "    isHit(AI_Ships,x-1,y-1)\n",
    "#     if isHit(AI_Ships,x-1,y-1):\n",
    "#         print('hit!')\n",
    "#     else:\n",
    "#         print('miss!')"
   ]
  },
  {
   "cell_type": "code",
   "execution_count": null,
   "metadata": {
    "collapsed": false
   },
   "outputs": [
    {
     "name": "stdout",
     "output_type": "stream",
     "text": [
      "\n",
      "Player's Positions\n",
      "[[ 1.  1.  1.  1.  1.  0.  0.  0.  0.  1.]\n",
      " [ 0.  0.  0.  0.  0.  0.  0.  0.  0.  1.]\n",
      " [ 0.  0.  0.  0.  0.  0.  0.  0.  0.  1.]\n",
      " [ 0.  0.  0.  0.  0.  0.  0.  0.  0.  1.]\n",
      " [ 0.  0.  0.  0.  1.  1.  1.  0.  0.  0.]\n",
      " [ 0.  0.  0.  0.  0.  1.  1.  1.  0.  0.]\n",
      " [ 0.  0.  0.  0.  0.  0.  0.  0.  0.  0.]\n",
      " [ 0.  0.  0.  0.  0.  0.  0.  0.  0.  0.]\n",
      " [ 0.  0.  1.  1.  0.  0.  0.  0.  0.  0.]\n",
      " [ 0.  0.  0.  0.  0.  0.  0.  0.  0.  0.]]\n",
      "\n",
      "AI's Positions\n",
      "[[ 0.  0.  0.  0.  0.  0.  0.  0.  1.  0.]\n",
      " [ 0.  0.  1.  0.  0.  0.  0.  0.  1.  0.]\n",
      " [ 0.  0.  1.  0.  0.  1.  1.  1.  1.  0.]\n",
      " [ 0.  0.  1.  0.  0.  1.  0.  0.  1.  0.]\n",
      " [ 1.  0.  1.  0.  0.  1.  0.  0.  0.  0.]\n",
      " [ 1.  0.  1.  0.  0.  1.  0.  0.  0.  0.]\n",
      " [ 0.  0.  0.  0.  0.  0.  0.  0.  0.  0.]\n",
      " [ 0.  0.  0.  0.  0.  0.  0.  0.  0.  0.]\n",
      " [ 0.  0.  0.  0.  0.  0.  0.  0.  0.  0.]\n",
      " [ 0.  0.  0.  0.  0.  0.  0.  0.  0.  0.]]\n",
      "\n",
      "-=-=-=-=-=-=-=-=-=-=START-GAME=-=-=-=-=-=-=-=-=-=-\n",
      "\n",
      "The AI has targeted (6, 5).\n",
      "miss!\n",
      "\n",
      "AI's Playing Board\n",
      "[[ 0.  0.  0.  0.  0.  0.  0.  0.  0.  0.]\n",
      " [ 0.  0.  0.  0.  0.  0.  0.  0.  0.  0.]\n",
      " [ 0.  0.  0.  0.  0.  0.  0.  0.  0.  0.]\n",
      " [ 0.  0.  0.  0.  0.  0.  0.  0.  0.  0.]\n",
      " [ 0.  0.  0.  0.  0.  1.  0.  0.  0.  0.]\n",
      " [ 0.  0.  0.  0.  0.  0.  0.  0.  0.  0.]\n",
      " [ 0.  0.  0.  0.  0.  0.  0.  0.  0.  0.]\n",
      " [ 0.  0.  0.  0.  0.  0.  0.  0.  0.  0.]\n",
      " [ 0.  0.  0.  0.  0.  0.  0.  0.  0.  0.]\n",
      " [ 0.  0.  0.  0.  0.  0.  0.  0.  0.  0.]]\n",
      "\n",
      "-=-=-=-=-=-=-=-=-=-=-=-=-=-=-=-=-=-=-=-=-=-=-=-=-=-=-=-\n"
     ]
    }
   ],
   "source": [
    "# Actual Game?\n",
    "\n",
    "#INITIALIZATIONS\n",
    "\n",
    "#Game board for AI\n",
    "Board = initBoard()\n",
    "# print(\"\\nBoard\")\n",
    "# dispBoard(Board)\n",
    "\n",
    "#Game board for Player\n",
    "PBoard = initBoard()\n",
    "# print(\"\\nPlayer's Board\")\n",
    "# dispBoard(PBoard)\n",
    "\n",
    "#Enemy ships\n",
    "# Enemies = initEnemies()\n",
    "# print(\"\\nPlayer's Positions\")\n",
    "# print(Enemies)\n",
    "#TAKE OUT FOR REAL PLAY, THIS IS JUST PLACE HOLDER.\n",
    "Enemies = np.zeros((10,10))\n",
    "placeShip(Enemies,0,0,0,5)\n",
    "placeShip(Enemies,0,9,1,4)\n",
    "placeShip(Enemies,4,4,0,3)\n",
    "placeShip(Enemies,5,5,0,3)\n",
    "placeShip(Enemies,8,2,0,2)\n",
    "print(\"\\nPlayer's Positions\")\n",
    "print(Enemies)\n",
    "\n",
    "#Computer's ships\n",
    "Ships = initShips()\n",
    "print(\"\\nAI's Positions\")\n",
    "print(Ships)\n",
    "\n",
    "#Ship queue\n",
    "ShipQueueX = []\n",
    "ShipQueueY = []\n",
    "\n",
    "#Whose turn toggles between 0 and 1\n",
    "#Turn = 0 is the AI's turn, Turn = 1 is the Player's turn\n",
    "Turn = 0\n",
    "end = 2\n",
    "\n",
    "print(\"\\n-=-=-=-=-=-=-=-=-=-=START-GAME=-=-=-=-=-=-=-=-=-=-\\n\")\n",
    "\n",
    "GameOver = 0\n",
    "#START GAME\n",
    "while ~GameOver and end > 0:\n",
    "    if Turn:\n",
    "        PlayerTurn(PBoard,Ships)\n",
    "        print(\"\\nPlayer's Playing Board\")\n",
    "        dispBoard(PBoard)\n",
    "    else:\n",
    "        AITurn(Board,Enemy_Ships,Enemies,ShipQueueX,ShipQueueY)\n",
    "        # clear_output()\n",
    "        print(\"\\nAI's Playing Board\")\n",
    "        dispBoard(Board)\n",
    "        # print(\"\\nShipQueues\")\n",
    "        # print(ShipQueueX)\n",
    "        # print(ShipQueueY)\n",
    "    print(\"\\n-=-=-=-=-=-=-=-=-=-=-=-=-=-=-=-=-=-=-=-=-=-=-=-=-=-=-=-\")\n",
    "    Turn = 1-Turn\n",
    "    end -= 1\n",
    "\n",
    "# while ~GameOver\n",
    "#     #if Player's turn:\n",
    "#         #take input and run on Computer's boards\n",
    "#     #otherwise is Computer's turn:\n",
    "#         #take a turn\n"
   ]
  },
  {
   "cell_type": "markdown",
   "metadata": {},
   "source": [
    "# To Do"
   ]
  },
  {
   "cell_type": "markdown",
   "metadata": {},
   "source": [
    "1. Code should be divided into \"Ship Search\" and \"Ship Sink\" methods\n",
    "    * Ship Search - tries to find ship to sink (mostly written)\n",
    "    * Ship Sink - tries to sink ship when one is found (need to write)\n",
    "2. Find space with highest probability to shoot into for \"Ship Search\"\n",
    "3. Write \"Ship Sink\" method\n",
    "    * If enemy ship is hit, iterate through list of possible ships that were hit to find most likely direction to start testing\n",
    "    * Edge cases very important. Possible to hit multiple ships in trying tosink one so \"ship sunk\" queue very important\n",
    "    "
   ]
  }
 ],
 "metadata": {
  "anaconda-cloud": {},
  "kernelspec": {
   "display_name": "Python 3",
   "language": "python",
   "name": "python3"
  },
  "language_info": {
   "codemirror_mode": {
    "name": "ipython",
    "version": 3
   },
   "file_extension": ".py",
   "mimetype": "text/x-python",
   "name": "python",
   "nbconvert_exporter": "python",
   "pygments_lexer": "ipython3",
   "version": "3.6.0"
  }
 },
 "nbformat": 4,
 "nbformat_minor": 1
}
