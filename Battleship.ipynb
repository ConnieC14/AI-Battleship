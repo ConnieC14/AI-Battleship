{
 "cells": [
  {
   "cell_type": "code",
   "execution_count": 244,
   "metadata": {
    "collapsed": true
   },
   "outputs": [],
   "source": [
    "import copy\n",
    "import random\n",
    "import pandas as pd\n",
    "import numpy as np"
   ]
  },
  {
   "cell_type": "markdown",
   "metadata": {},
   "source": [
    "# Battleship"
   ]
  },
  {
   "cell_type": "markdown",
   "metadata": {},
   "source": [
    "Rules:\n",
    "1. Each player arranges ships according to fleet\n",
    "2. Take turns firing a shot\n",
    "3. Mark Hits and Misses\n",
    "4. Call out when a ship has been sunk\n",
    "5. Sink all to win"
   ]
  },
  {
   "cell_type": "markdown",
   "metadata": {},
   "source": [
    "Ships:\n",
    "1. Carrier - 5\n",
    "2. Battleship - 4\n",
    "3. Cruiser - 3\n",
    "4. Submarine - 3\n",
    "5. Destroyer -2"
   ]
  },
  {
   "cell_type": "markdown",
   "metadata": {},
   "source": [
    "10 Rows x 10 Columns  \n",
    "\n",
    "|   |   |   |   |   |   |   |   |   |   |\n",
    "|---|---|---|---|---|---|---|---|---|---|\n",
    "|   |   |   |   |   |   |   |   |   |   |\n",
    "|   |   |   |   |   |   |   |   |   |   |\n",
    "|   |   |   |   |   |   |   |   |   |   |\n",
    "|   |   |   |   |   |   |   |   |   |   |\n",
    "|   |   |   |   |   |   |   |   |   |   |\n",
    "|   |   |   |   |   |   |   |   |   |   |\n",
    "|   |   |   |   |   |   |   |   |   |   |\n",
    "|   |   |   |   |   |   |   |   |   |   |\n",
    "|   |   |   |   |   |   |   |   |   |   |"
   ]
  },
  {
   "cell_type": "markdown",
   "metadata": {},
   "source": [
    "##### Parameters"
   ]
  },
  {
   "cell_type": "code",
   "execution_count": 245,
   "metadata": {
    "collapsed": true
   },
   "outputs": [],
   "source": [
    "Enemy_Ships = [[\"Carrier\", 5, []],\n",
    "               [\"Battleship\", 4, []],\n",
    "               [\"Cruiser\", 3, []],\n",
    "               [\"Submarine\", 3, []],\n",
    "               [\"Destroyer\", 2, []]]"
   ]
  },
  {
   "cell_type": "markdown",
   "metadata": {},
   "source": [
    "##### Helper Functions"
   ]
  },
  {
   "cell_type": "code",
   "execution_count": 246,
   "metadata": {
    "collapsed": true
   },
   "outputs": [],
   "source": [
    "# Is current proposed ship allocation valid?\n",
    "\n",
    "def ValidPlacement(Board, i, j, k, length):\n",
    "    # Board = Dictionary for Board\n",
    "    # i = row of ship\n",
    "    # j = column of ship\n",
    "    # k = orientation of ship (0 = hoz, 1 = vert)\n",
    "    # length = length of ship\n",
    "    \n",
    "    #Horizontal Ship\n",
    "    if (k == 0):\n",
    "        if (j>11-length):\n",
    "            return 0\n",
    "        else:\n",
    "            occupied = 0\n",
    "            for l in range(length):\n",
    "                occupied = occupied + Board[i][j+l]\n",
    "            if(occupied == 0):\n",
    "                return 1\n",
    "            else:\n",
    "                return 0\n",
    "            \n",
    "    #Vertical Ship\n",
    "    if (k == 1):\n",
    "        if (i>11-length):\n",
    "            return 0\n",
    "        else:\n",
    "            occupied = 0\n",
    "            for l in range(length):\n",
    "                occupied = occupied + Board[i+l][j]\n",
    "            if(occupied == 0):\n",
    "                return 1\n",
    "            else:\n",
    "                return 0"
   ]
  },
  {
   "cell_type": "code",
   "execution_count": 247,
   "metadata": {
    "collapsed": true
   },
   "outputs": [],
   "source": [
    "def ValidLocations(Board, Ship_List, Occupied):\n",
    "    #Wri\n",
    "    #Board: dictionary for occupied spaces\n",
    "    #Ship_List: Array with ship name, length, 3rd index to place valid locations \n",
    "    #          [\"Ship_Name\", length, []]\n",
    "    #Returns: Occupied, a shadow of the board containing all occupied spots\n",
    "    \n",
    "    for s in range(len(Ship_List)):\n",
    "        valid_placements = []\n",
    "        Ship = Ship_List[s]\n",
    "        length = Ship[1]\n",
    "\n",
    "        for i in range(1,11):\n",
    "            for j in range(1,11):\n",
    "                for k in range(2):\n",
    "                     if (ValidPlacement(Board,i,j,k,length)==1):\n",
    "                            valid_placements.append([i,j,k])\n",
    "                            Occupied[i-1][j-1] = 1\n",
    "        Ship[2] = valid_placements\n",
    "        \n",
    "    return Occupied"
   ]
  },
  {
   "cell_type": "code",
   "execution_count": 248,
   "metadata": {
    "collapsed": false
   },
   "outputs": [],
   "source": [
    "def SpacesOccupied(length,location):\n",
    "    #length = length of ship\n",
    "    #location = [i,j,k]\n",
    "    #Returns list of spaces occupied by ship\n",
    "    \n",
    "    occupied = []\n",
    "    i,j,k = location\n",
    "    \n",
    "    if (k==0):\n",
    "        for l in range(length):\n",
    "            occupied.append((i,j+l))\n",
    "    if (k==1):\n",
    "        for l in range(length):\n",
    "            occupied.append((i+l,j))\n",
    "        \n",
    "    return occupied"
   ]
  },
  {
   "cell_type": "code",
   "execution_count": 249,
   "metadata": {
    "collapsed": true
   },
   "outputs": [],
   "source": [
    "def RandomSample(Ship_List):\n",
    "    # Ship_List = [\"Ship_Name\", length, locations]\n",
    "    # Return: Data frame of board with 1s for ship positions\n",
    "    #        or all 0s if not a valid arrangement\n",
    "    \n",
    "    PDF = pd.DataFrame(index=range(1,11), columns=range(1,11))\n",
    "    PDF = PDF.fillna(0) # with 0s rather than NaNs\n",
    "    \n",
    "    locations = []\n",
    "    for s in range(len(Ship_List)):\n",
    "        Ship = Ship_List[s]\n",
    "        position = random.choice(Ship[2])\n",
    "        spaces = SpacesOccupied(Ship[1],position)\n",
    "        locations.extend(spaces)\n",
    "    #Check if valid configuration\n",
    "    if(len(locations) == len(set(locations))):\n",
    "        for t in locations:\n",
    "            PDF.loc[t] = 1\n",
    "        return PDF\n",
    "    else:\n",
    "        return False        "
   ]
  },
  {
   "cell_type": "code",
   "execution_count": 250,
   "metadata": {
    "collapsed": true
   },
   "outputs": [],
   "source": [
    "def NSamples(N,M,Ship_List):\n",
    "    #N = Number of samples wanted\n",
    "    #M = Max number of iterations\n",
    "    #Ship_List = [\"Ship_Name\", length, locations]\n",
    "    #Returns: (DF, S) Data frame of accumulated possible locations and number of actual samples taken\n",
    "    \n",
    "    PDF = pd.DataFrame(index=range(1,11), columns=range(1,11))\n",
    "    PDF = PDF.fillna(0) # with 0s rather than NaNs\n",
    "    n = 0\n",
    "    m = 0\n",
    "    while( (n<N) & (m<M) ):\n",
    "        m = m + 1\n",
    "        Result = RandomSample(Ship_List)\n",
    "        if (type(Result) != bool):\n",
    "            PDF = PDF + Result\n",
    "            n = n+1\n",
    "    \n",
    "    return(PDF,n)"
   ]
  },
  {
   "cell_type": "markdown",
   "metadata": {
    "collapsed": true
   },
   "source": [
    "##### Initialize Board"
   ]
  },
  {
   "cell_type": "code",
   "execution_count": 251,
   "metadata": {
    "collapsed": false
   },
   "outputs": [],
   "source": [
    "Board = {}\n",
    "for i in range(1,11):\n",
    "    Board[i] = {}\n",
    "    for j in range(1,11):\n",
    "        Board[i][j] = 0 \n",
    "        \n",
    "# Board = np.zeros((10,10))"
   ]
  },
  {
   "cell_type": "markdown",
   "metadata": {},
   "source": [
    "##### Example"
   ]
  },
  {
   "cell_type": "code",
   "execution_count": 252,
   "metadata": {
    "collapsed": false
   },
   "outputs": [],
   "source": [
    "Board[5][5] = 1\n",
    "Board[5][6] = 1\n",
    "Board[6][5] = 1\n",
    "Board[6][6] = 1\n",
    "\n",
    "Board[2][2] = 1\n",
    "Board[3][3] = 1\n",
    "Board[4][4] = 1\n",
    "Board[5][1] = 1\n",
    "\n",
    "Board[10][10] = 1\n",
    "Board[8][3] = 1\n",
    "Board[2][7] = 1\n",
    "Board[10][9] = 1"
   ]
  },
  {
   "cell_type": "code",
   "execution_count": 253,
   "metadata": {
    "collapsed": false
   },
   "outputs": [],
   "source": [
    "DispBoard = np.zeros((10,10))\n",
    "\n",
    "for i in range(1,11):\n",
    "    for j in range(1,11):\n",
    "        if Board[i][j] == 0:\n",
    "            DispBoard[i-1][j-1] = 0\n",
    "        else:\n",
    "            DispBoard[i-1][j-1] = 1"
   ]
  },
  {
   "cell_type": "code",
   "execution_count": 254,
   "metadata": {
    "collapsed": false
   },
   "outputs": [],
   "source": [
    "Occupied = np.zeros((10,10))\n",
    "Occupied = ValidLocations(Board, Enemy_Ships, Occupied)"
   ]
  },
  {
   "cell_type": "code",
   "execution_count": 255,
   "metadata": {
    "collapsed": false
   },
   "outputs": [
    {
     "data": {
      "text/plain": [
       "array([[ 1.,  1.,  1.,  1.,  1.,  1.,  1.,  1.,  1.,  1.],\n",
       "       [ 1.,  0.,  1.,  1.,  1.,  1.,  0.,  1.,  1.,  1.],\n",
       "       [ 1.,  1.,  0.,  1.,  1.,  1.,  1.,  1.,  1.,  1.],\n",
       "       [ 1.,  1.,  1.,  0.,  1.,  1.,  1.,  1.,  1.,  1.],\n",
       "       [ 0.,  1.,  1.,  1.,  0.,  0.,  1.,  1.,  1.,  1.],\n",
       "       [ 1.,  1.,  1.,  1.,  0.,  0.,  1.,  1.,  1.,  1.],\n",
       "       [ 1.,  1.,  1.,  1.,  1.,  1.,  1.,  1.,  1.,  1.],\n",
       "       [ 1.,  1.,  0.,  1.,  1.,  1.,  1.,  1.,  1.,  1.],\n",
       "       [ 1.,  1.,  1.,  1.,  1.,  1.,  1.,  1.,  1.,  0.],\n",
       "       [ 1.,  1.,  1.,  1.,  1.,  1.,  1.,  0.,  0.,  0.]])"
      ]
     },
     "execution_count": 255,
     "metadata": {},
     "output_type": "execute_result"
    }
   ],
   "source": [
    "Occupied"
   ]
  },
  {
   "cell_type": "code",
   "execution_count": 256,
   "metadata": {
    "collapsed": false,
    "scrolled": true
   },
   "outputs": [],
   "source": [
    "PDF,n = NSamples(2000,6000,Enemy_Ships)"
   ]
  },
  {
   "cell_type": "code",
   "execution_count": 257,
   "metadata": {
    "collapsed": false
   },
   "outputs": [
    {
     "data": {
      "text/html": [
       "<div>\n",
       "<table border=\"1\" class=\"dataframe\">\n",
       "  <thead>\n",
       "    <tr style=\"text-align: right;\">\n",
       "      <th></th>\n",
       "      <th>1</th>\n",
       "      <th>2</th>\n",
       "      <th>3</th>\n",
       "      <th>4</th>\n",
       "      <th>5</th>\n",
       "      <th>6</th>\n",
       "      <th>7</th>\n",
       "      <th>8</th>\n",
       "      <th>9</th>\n",
       "      <th>10</th>\n",
       "    </tr>\n",
       "  </thead>\n",
       "  <tbody>\n",
       "    <tr>\n",
       "      <th>1</th>\n",
       "      <td>217</td>\n",
       "      <td>245</td>\n",
       "      <td>366</td>\n",
       "      <td>477</td>\n",
       "      <td>498</td>\n",
       "      <td>517</td>\n",
       "      <td>442</td>\n",
       "      <td>467</td>\n",
       "      <td>346</td>\n",
       "      <td>241</td>\n",
       "    </tr>\n",
       "    <tr>\n",
       "      <th>2</th>\n",
       "      <td>160</td>\n",
       "      <td>0</td>\n",
       "      <td>115</td>\n",
       "      <td>239</td>\n",
       "      <td>292</td>\n",
       "      <td>238</td>\n",
       "      <td>0</td>\n",
       "      <td>259</td>\n",
       "      <td>298</td>\n",
       "      <td>301</td>\n",
       "    </tr>\n",
       "    <tr>\n",
       "      <th>3</th>\n",
       "      <td>179</td>\n",
       "      <td>165</td>\n",
       "      <td>0</td>\n",
       "      <td>179</td>\n",
       "      <td>352</td>\n",
       "      <td>442</td>\n",
       "      <td>424</td>\n",
       "      <td>537</td>\n",
       "      <td>483</td>\n",
       "      <td>415</td>\n",
       "    </tr>\n",
       "    <tr>\n",
       "      <th>4</th>\n",
       "      <td>157</td>\n",
       "      <td>333</td>\n",
       "      <td>137</td>\n",
       "      <td>0</td>\n",
       "      <td>201</td>\n",
       "      <td>281</td>\n",
       "      <td>473</td>\n",
       "      <td>559</td>\n",
       "      <td>556</td>\n",
       "      <td>508</td>\n",
       "    </tr>\n",
       "    <tr>\n",
       "      <th>5</th>\n",
       "      <td>0</td>\n",
       "      <td>393</td>\n",
       "      <td>205</td>\n",
       "      <td>193</td>\n",
       "      <td>0</td>\n",
       "      <td>0</td>\n",
       "      <td>352</td>\n",
       "      <td>422</td>\n",
       "      <td>504</td>\n",
       "      <td>498</td>\n",
       "    </tr>\n",
       "    <tr>\n",
       "      <th>6</th>\n",
       "      <td>245</td>\n",
       "      <td>528</td>\n",
       "      <td>261</td>\n",
       "      <td>306</td>\n",
       "      <td>0</td>\n",
       "      <td>0</td>\n",
       "      <td>417</td>\n",
       "      <td>424</td>\n",
       "      <td>472</td>\n",
       "      <td>469</td>\n",
       "    </tr>\n",
       "    <tr>\n",
       "      <th>7</th>\n",
       "      <td>340</td>\n",
       "      <td>554</td>\n",
       "      <td>370</td>\n",
       "      <td>631</td>\n",
       "      <td>472</td>\n",
       "      <td>456</td>\n",
       "      <td>681</td>\n",
       "      <td>555</td>\n",
       "      <td>486</td>\n",
       "      <td>436</td>\n",
       "    </tr>\n",
       "    <tr>\n",
       "      <th>8</th>\n",
       "      <td>300</td>\n",
       "      <td>323</td>\n",
       "      <td>0</td>\n",
       "      <td>361</td>\n",
       "      <td>336</td>\n",
       "      <td>414</td>\n",
       "      <td>601</td>\n",
       "      <td>548</td>\n",
       "      <td>408</td>\n",
       "      <td>318</td>\n",
       "    </tr>\n",
       "    <tr>\n",
       "      <th>9</th>\n",
       "      <td>346</td>\n",
       "      <td>434</td>\n",
       "      <td>351</td>\n",
       "      <td>594</td>\n",
       "      <td>552</td>\n",
       "      <td>531</td>\n",
       "      <td>567</td>\n",
       "      <td>509</td>\n",
       "      <td>337</td>\n",
       "      <td>228</td>\n",
       "    </tr>\n",
       "    <tr>\n",
       "      <th>10</th>\n",
       "      <td>302</td>\n",
       "      <td>373</td>\n",
       "      <td>390</td>\n",
       "      <td>535</td>\n",
       "      <td>534</td>\n",
       "      <td>420</td>\n",
       "      <td>372</td>\n",
       "      <td>247</td>\n",
       "      <td>0</td>\n",
       "      <td>0</td>\n",
       "    </tr>\n",
       "  </tbody>\n",
       "</table>\n",
       "</div>"
      ],
      "text/plain": [
       "     1    2    3    4    5    6    7    8    9    10\n",
       "1   217  245  366  477  498  517  442  467  346  241\n",
       "2   160    0  115  239  292  238    0  259  298  301\n",
       "3   179  165    0  179  352  442  424  537  483  415\n",
       "4   157  333  137    0  201  281  473  559  556  508\n",
       "5     0  393  205  193    0    0  352  422  504  498\n",
       "6   245  528  261  306    0    0  417  424  472  469\n",
       "7   340  554  370  631  472  456  681  555  486  436\n",
       "8   300  323    0  361  336  414  601  548  408  318\n",
       "9   346  434  351  594  552  531  567  509  337  228\n",
       "10  302  373  390  535  534  420  372  247    0    0"
      ]
     },
     "execution_count": 257,
     "metadata": {},
     "output_type": "execute_result"
    }
   ],
   "source": [
    "PDF"
   ]
  },
  {
   "cell_type": "code",
   "execution_count": 258,
   "metadata": {
    "collapsed": false
   },
   "outputs": [
    {
     "data": {
      "text/html": [
       "<div>\n",
       "<table border=\"1\" class=\"dataframe\">\n",
       "  <thead>\n",
       "    <tr style=\"text-align: right;\">\n",
       "      <th></th>\n",
       "      <th>1</th>\n",
       "      <th>2</th>\n",
       "      <th>3</th>\n",
       "      <th>4</th>\n",
       "      <th>5</th>\n",
       "      <th>6</th>\n",
       "      <th>7</th>\n",
       "      <th>8</th>\n",
       "      <th>9</th>\n",
       "      <th>10</th>\n",
       "    </tr>\n",
       "  </thead>\n",
       "  <tbody>\n",
       "    <tr>\n",
       "      <th>1</th>\n",
       "      <td>0.1085</td>\n",
       "      <td>0.1225</td>\n",
       "      <td>0.1830</td>\n",
       "      <td>0.2385</td>\n",
       "      <td>0.2490</td>\n",
       "      <td>0.2585</td>\n",
       "      <td>0.2210</td>\n",
       "      <td>0.2335</td>\n",
       "      <td>0.1730</td>\n",
       "      <td>0.1205</td>\n",
       "    </tr>\n",
       "    <tr>\n",
       "      <th>2</th>\n",
       "      <td>0.0800</td>\n",
       "      <td>0.0000</td>\n",
       "      <td>0.0575</td>\n",
       "      <td>0.1195</td>\n",
       "      <td>0.1460</td>\n",
       "      <td>0.1190</td>\n",
       "      <td>0.0000</td>\n",
       "      <td>0.1295</td>\n",
       "      <td>0.1490</td>\n",
       "      <td>0.1505</td>\n",
       "    </tr>\n",
       "    <tr>\n",
       "      <th>3</th>\n",
       "      <td>0.0895</td>\n",
       "      <td>0.0825</td>\n",
       "      <td>0.0000</td>\n",
       "      <td>0.0895</td>\n",
       "      <td>0.1760</td>\n",
       "      <td>0.2210</td>\n",
       "      <td>0.2120</td>\n",
       "      <td>0.2685</td>\n",
       "      <td>0.2415</td>\n",
       "      <td>0.2075</td>\n",
       "    </tr>\n",
       "    <tr>\n",
       "      <th>4</th>\n",
       "      <td>0.0785</td>\n",
       "      <td>0.1665</td>\n",
       "      <td>0.0685</td>\n",
       "      <td>0.0000</td>\n",
       "      <td>0.1005</td>\n",
       "      <td>0.1405</td>\n",
       "      <td>0.2365</td>\n",
       "      <td>0.2795</td>\n",
       "      <td>0.2780</td>\n",
       "      <td>0.2540</td>\n",
       "    </tr>\n",
       "    <tr>\n",
       "      <th>5</th>\n",
       "      <td>0.0000</td>\n",
       "      <td>0.1965</td>\n",
       "      <td>0.1025</td>\n",
       "      <td>0.0965</td>\n",
       "      <td>0.0000</td>\n",
       "      <td>0.0000</td>\n",
       "      <td>0.1760</td>\n",
       "      <td>0.2110</td>\n",
       "      <td>0.2520</td>\n",
       "      <td>0.2490</td>\n",
       "    </tr>\n",
       "    <tr>\n",
       "      <th>6</th>\n",
       "      <td>0.1225</td>\n",
       "      <td>0.2640</td>\n",
       "      <td>0.1305</td>\n",
       "      <td>0.1530</td>\n",
       "      <td>0.0000</td>\n",
       "      <td>0.0000</td>\n",
       "      <td>0.2085</td>\n",
       "      <td>0.2120</td>\n",
       "      <td>0.2360</td>\n",
       "      <td>0.2345</td>\n",
       "    </tr>\n",
       "    <tr>\n",
       "      <th>7</th>\n",
       "      <td>0.1700</td>\n",
       "      <td>0.2770</td>\n",
       "      <td>0.1850</td>\n",
       "      <td>0.3155</td>\n",
       "      <td>0.2360</td>\n",
       "      <td>0.2280</td>\n",
       "      <td>0.3405</td>\n",
       "      <td>0.2775</td>\n",
       "      <td>0.2430</td>\n",
       "      <td>0.2180</td>\n",
       "    </tr>\n",
       "    <tr>\n",
       "      <th>8</th>\n",
       "      <td>0.1500</td>\n",
       "      <td>0.1615</td>\n",
       "      <td>0.0000</td>\n",
       "      <td>0.1805</td>\n",
       "      <td>0.1680</td>\n",
       "      <td>0.2070</td>\n",
       "      <td>0.3005</td>\n",
       "      <td>0.2740</td>\n",
       "      <td>0.2040</td>\n",
       "      <td>0.1590</td>\n",
       "    </tr>\n",
       "    <tr>\n",
       "      <th>9</th>\n",
       "      <td>0.1730</td>\n",
       "      <td>0.2170</td>\n",
       "      <td>0.1755</td>\n",
       "      <td>0.2970</td>\n",
       "      <td>0.2760</td>\n",
       "      <td>0.2655</td>\n",
       "      <td>0.2835</td>\n",
       "      <td>0.2545</td>\n",
       "      <td>0.1685</td>\n",
       "      <td>0.1140</td>\n",
       "    </tr>\n",
       "    <tr>\n",
       "      <th>10</th>\n",
       "      <td>0.1510</td>\n",
       "      <td>0.1865</td>\n",
       "      <td>0.1950</td>\n",
       "      <td>0.2675</td>\n",
       "      <td>0.2670</td>\n",
       "      <td>0.2100</td>\n",
       "      <td>0.1860</td>\n",
       "      <td>0.1235</td>\n",
       "      <td>0.0000</td>\n",
       "      <td>0.0000</td>\n",
       "    </tr>\n",
       "  </tbody>\n",
       "</table>\n",
       "</div>"
      ],
      "text/plain": [
       "        1       2       3       4       5       6       7       8       9   \\\n",
       "1   0.1085  0.1225  0.1830  0.2385  0.2490  0.2585  0.2210  0.2335  0.1730   \n",
       "2   0.0800  0.0000  0.0575  0.1195  0.1460  0.1190  0.0000  0.1295  0.1490   \n",
       "3   0.0895  0.0825  0.0000  0.0895  0.1760  0.2210  0.2120  0.2685  0.2415   \n",
       "4   0.0785  0.1665  0.0685  0.0000  0.1005  0.1405  0.2365  0.2795  0.2780   \n",
       "5   0.0000  0.1965  0.1025  0.0965  0.0000  0.0000  0.1760  0.2110  0.2520   \n",
       "6   0.1225  0.2640  0.1305  0.1530  0.0000  0.0000  0.2085  0.2120  0.2360   \n",
       "7   0.1700  0.2770  0.1850  0.3155  0.2360  0.2280  0.3405  0.2775  0.2430   \n",
       "8   0.1500  0.1615  0.0000  0.1805  0.1680  0.2070  0.3005  0.2740  0.2040   \n",
       "9   0.1730  0.2170  0.1755  0.2970  0.2760  0.2655  0.2835  0.2545  0.1685   \n",
       "10  0.1510  0.1865  0.1950  0.2675  0.2670  0.2100  0.1860  0.1235  0.0000   \n",
       "\n",
       "        10  \n",
       "1   0.1205  \n",
       "2   0.1505  \n",
       "3   0.2075  \n",
       "4   0.2540  \n",
       "5   0.2490  \n",
       "6   0.2345  \n",
       "7   0.2180  \n",
       "8   0.1590  \n",
       "9   0.1140  \n",
       "10  0.0000  "
      ]
     },
     "execution_count": 258,
     "metadata": {},
     "output_type": "execute_result"
    }
   ],
   "source": [
    "PDF/n"
   ]
  },
  {
   "cell_type": "code",
   "execution_count": 259,
   "metadata": {
    "collapsed": false
   },
   "outputs": [
    {
     "data": {
      "text/plain": [
       "2000"
      ]
     },
     "execution_count": 259,
     "metadata": {},
     "output_type": "execute_result"
    }
   ],
   "source": [
    "n"
   ]
  },
  {
   "cell_type": "code",
   "execution_count": 260,
   "metadata": {
    "collapsed": false
   },
   "outputs": [],
   "source": [
    "a = np.array([[1,3,2],[8,7,9],[5,6,4]])\n",
    "#print(a)\n",
    "arr = np.where(a==a.max())\n",
    "x = arr[0]\n",
    "y = arr[1]\n",
    "#print(a[x].flatten()[y])\n",
    "\n",
    "Unsunk = 0"
   ]
  },
  {
   "cell_type": "code",
   "execution_count": 275,
   "metadata": {
    "collapsed": false
   },
   "outputs": [],
   "source": [
    "def ShipSearch(Board, Enemy_Ships):\n",
    "    # ShipSearch = [Board, Enemy_Ships]\n",
    "    # Board: dictionary for occupied spaces\n",
    "    # Enemy_Ships: Array with ship name, length, 3rd index to place valid locations \n",
    "    #          [\"Ship_Name\", length, []]\n",
    "    # Returns: x,y coordinates of chosen spot (on board)\n",
    "    \n",
    "    # What is a good choice for N and M in NSamples?    \n",
    "    PDF,n = NSamples(2000,6000,Enemy_Ships)\n",
    "    \n",
    "    arr = np.where(PDF==max(PDF.max()))\n",
    "    x = arr[0]+1\n",
    "    y = arr[1]+1\n",
    "    #because max PDF[x][y] corresponds to Board[x+1][y+1]\n",
    "    \n",
    "    return x[0],y[0]"
   ]
  },
  {
   "cell_type": "code",
   "execution_count": 276,
   "metadata": {
    "collapsed": false
   },
   "outputs": [
    {
     "data": {
      "text/plain": [
       "681"
      ]
     },
     "execution_count": 276,
     "metadata": {},
     "output_type": "execute_result"
    }
   ],
   "source": [
    "np.max(PDF.max())"
   ]
  },
  {
   "cell_type": "code",
   "execution_count": 280,
   "metadata": {
    "collapsed": false
   },
   "outputs": [],
   "source": [
    "x,y = ShipSearch(Board,Enemy_Ships)"
   ]
  },
  {
   "cell_type": "code",
   "execution_count": 281,
   "metadata": {
    "collapsed": false,
    "scrolled": true
   },
   "outputs": [
    {
     "name": "stdout",
     "output_type": "stream",
     "text": [
      "[7]\n",
      "[7]\n",
      "7\n",
      "7\n"
     ]
    }
   ],
   "source": [
    "print(x)\n",
    "print(y)\n",
    "print(x[0])\n",
    "print(y[0])\n",
    "#print(Enemy_Ships)"
   ]
  },
  {
   "cell_type": "code",
   "execution_count": 285,
   "metadata": {
    "collapsed": false
   },
   "outputs": [],
   "source": [
    "def isHit(Board, Occupied, x, y):\n",
    "    # isHit = [Board, Enemy_Ships, x, y]\n",
    "    # Board: dictionary for occupied spaces\n",
    "    # Occupied: shadow board containing all occupied spaces\n",
    "    # x, y: target x-y coordinates on board\n",
    "    # Returns: whether or not it's a hit!\n",
    "    \n",
    "    if Occupied[x,y]:\n",
    "        print('hit!')\n",
    "        return 1\n",
    "    else:\n",
    "        print('miss!')\n",
    "        return 0"
   ]
  },
  {
   "cell_type": "code",
   "execution_count": 286,
   "metadata": {
    "collapsed": false
   },
   "outputs": [
    {
     "name": "stdout",
     "output_type": "stream",
     "text": [
      "(10, 10)\n",
      "hit!\n"
     ]
    },
    {
     "data": {
      "text/plain": [
       "1"
      ]
     },
     "execution_count": 286,
     "metadata": {},
     "output_type": "execute_result"
    }
   ],
   "source": [
    "# print(Occupied.shape)\n",
    "isHit(Board,Occupied,x,y)"
   ]
  },
  {
   "cell_type": "code",
   "execution_count": 287,
   "metadata": {
    "collapsed": true
   },
   "outputs": [],
   "source": [
    "ShipQueue = []"
   ]
  },
  {
   "cell_type": "code",
   "execution_count": 292,
   "metadata": {
    "collapsed": false
   },
   "outputs": [
    {
     "name": "stdout",
     "output_type": "stream",
     "text": [
      "\n",
      "\n",
      "[1, 1, 0]\n",
      "[1, 2, 0]\n",
      "[1, 3, 0]\n",
      "\n",
      "\n",
      "[1, 1, 0]\n",
      "[1, 1, 1]\n",
      "[1, 2, 0]\n",
      "\n",
      "\n",
      "[1, 1, 0]\n",
      "[1, 1, 1]\n",
      "[1, 2, 0]\n",
      "\n",
      "\n",
      "[1, 1, 0]\n",
      "[1, 1, 1]\n",
      "[1, 2, 0]\n",
      "\n",
      "\n",
      "[1, 1, 0]\n",
      "[1, 1, 1]\n",
      "[1, 2, 0]\n"
     ]
    }
   ],
   "source": [
    " for i in range(len(Enemy_Ships)):\n",
    "        print('\\n')\n",
    "        for j in range(len(Enemy_Ships[i])):\n",
    "            print(Enemy_Ships[i][2][j])\n"
   ]
  },
  {
   "cell_type": "code",
   "execution_count": 288,
   "metadata": {
    "collapsed": true
   },
   "outputs": [],
   "source": [
    "def ShipSink(Board, Enemy_Ships,ShipQueue):\n",
    "    # ShipSink = [Board, Enemy_Ships]\n",
    "    # Board: dictionary for occupied spaces\n",
    "    # Enemy_Ships: Array with ship name, length, 3rd index to place valid locations \n",
    "    #          [\"Ship_Name\", length, []]\n",
    "    # Returns: x,y coordinates of chosen spot (on board)\n",
    "    return 1"
   ]
  },
  {
   "cell_type": "code",
   "execution_count": 289,
   "metadata": {
    "collapsed": true
   },
   "outputs": [],
   "source": [
    "# if len(ShipQueue) == 0:\n",
    "#     ShipSearch(Board,Enemy_Ships)\n",
    "# else:\n",
    "#     ShipSink(Board,Enemy_Ships)"
   ]
  },
  {
   "cell_type": "markdown",
   "metadata": {},
   "source": [
    "### To Do"
   ]
  },
  {
   "cell_type": "markdown",
   "metadata": {},
   "source": [
    "1. Code should be divided into \"Ship Search\" and \"Ship Sink\" methods\n",
    "    * Ship Search - tries to find ship to sink (mostly written)\n",
    "    * Ship Sink - tries to sink ship when one is found (need to write)\n",
    "2. Find space with highest probability to shoot into for \"Ship Search\"\n",
    "3. Write \"Ship Sink\" method\n",
    "    * If enemy ship is hit, iterate through list of possible ships that were hit to find most likely direction to start testing\n",
    "    * Edge cases very important. Possible to hit multiple ships in trying tosink one so \"ship sunk\" queue very important\n",
    "    "
   ]
  }
 ],
 "metadata": {
  "anaconda-cloud": {},
  "kernelspec": {
   "display_name": "Python 3",
   "language": "python",
   "name": "python3"
  },
  "language_info": {
   "codemirror_mode": {
    "name": "ipython",
    "version": 3
   },
   "file_extension": ".py",
   "mimetype": "text/x-python",
   "name": "python",
   "nbconvert_exporter": "python",
   "pygments_lexer": "ipython3",
   "version": "3.6.0"
  }
 },
 "nbformat": 4,
 "nbformat_minor": 1
}
