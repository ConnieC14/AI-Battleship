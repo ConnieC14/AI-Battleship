{
 "cells": [
  {
   "cell_type": "code",
   "execution_count": 1,
   "metadata": {
    "collapsed": true
   },
   "outputs": [],
   "source": [
    "import copy\n",
    "import random\n",
    "import pandas as pd"
   ]
  },
  {
   "cell_type": "markdown",
   "metadata": {},
   "source": [
    "# Battleship"
   ]
  },
  {
   "cell_type": "markdown",
   "metadata": {},
   "source": [
    "Rules:\n",
    "1. Each player arranges ships according to fleet\n",
    "2. Take turns firing a shot\n",
    "3. Mark Hits and Misses\n",
    "4. Call out when a ship has been sunk\n",
    "5. Sink all to win"
   ]
  },
  {
   "cell_type": "markdown",
   "metadata": {},
   "source": [
    "Ships:\n",
    "1. Carrier - 5\n",
    "2. Battleship - 4\n",
    "3. Cruiser - 3\n",
    "4. Submarine - 3\n",
    "5. Destroyer -2"
   ]
  },
  {
   "cell_type": "markdown",
   "metadata": {},
   "source": [
    "10 Rows x 10 Columns  \n",
    "\n",
    "|   |   |   |   |   |   |   |   |   |   |\n",
    "|---|---|---|---|---|---|---|---|---|---|\n",
    "|   |   |   |   |   |   |   |   |   |   |\n",
    "|   |   |   |   |   |   |   |   |   |   |\n",
    "|   |   |   |   |   |   |   |   |   |   |\n",
    "|   |   |   |   |   |   |   |   |   |   |\n",
    "|   |   |   |   |   |   |   |   |   |   |\n",
    "|   |   |   |   |   |   |   |   |   |   |\n",
    "|   |   |   |   |   |   |   |   |   |   |\n",
    "|   |   |   |   |   |   |   |   |   |   |\n",
    "|   |   |   |   |   |   |   |   |   |   |"
   ]
  },
  {
   "cell_type": "markdown",
   "metadata": {},
   "source": [
    "##### Parameters"
   ]
  },
  {
   "cell_type": "code",
   "execution_count": 2,
   "metadata": {
    "collapsed": true
   },
   "outputs": [],
   "source": [
    "Enemy_Ships = [[\"Carrier\", 5, []],[\"Battleship\", 4, []],[\"Cruiser\", 3, []],[\"Submarine\", 3, []],[\"Destroyer\", 2, []]]"
   ]
  },
  {
   "cell_type": "markdown",
   "metadata": {},
   "source": [
    "##### Helper Functions"
   ]
  },
  {
   "cell_type": "code",
   "execution_count": 3,
   "metadata": {
    "collapsed": true
   },
   "outputs": [],
   "source": [
    "# Is current proposed ship allocation valid?\n",
    "\n",
    "def ValidPlacement(Board, i, j, k, length):\n",
    "    # Board = Dictionary for Board\n",
    "    # i = row of ship\n",
    "    # j = column of ship\n",
    "    # k = orientation of ship (0 = hoz, 1 = vert)\n",
    "    # length = length of ship\n",
    "    \n",
    "    #Horizontal Ship\n",
    "    if (k == 0):\n",
    "        if (j>11-length):\n",
    "            return 0\n",
    "        else:\n",
    "            occupied = 0\n",
    "            for l in range(length):\n",
    "                occupied = occupied + Board[i][j+l]\n",
    "            if(occupied == 0):\n",
    "                return 1\n",
    "            else:\n",
    "                return 0\n",
    "            \n",
    "    #Vertical Ship\n",
    "    if (k == 1):\n",
    "        if (i>11-length):\n",
    "            return 0\n",
    "        else:\n",
    "            occupied = 0\n",
    "            for l in range(length):\n",
    "                occupied = occupied + Board[i+l][j]\n",
    "            if(occupied == 0):\n",
    "                return 1\n",
    "            else:\n",
    "                return 0"
   ]
  },
  {
   "cell_type": "code",
   "execution_count": 4,
   "metadata": {
    "collapsed": true
   },
   "outputs": [],
   "source": [
    "def ValidLocations(Board, Ship_List):\n",
    "    #Wri\n",
    "    #Board: dictionary for occupied spaces\n",
    "    #Ship_List: Array with ship name, length, 3rd index to place valid locations \n",
    "    #          [\"Ship_Name\", length, []]\n",
    "    \n",
    "    for s in range(len(Ship_List)):\n",
    "        valid_placements = []\n",
    "        Ship = Ship_List[s]\n",
    "        length = Ship[1]\n",
    "\n",
    "        for i in range(1,11):\n",
    "            for j in range(1,11):\n",
    "                for k in range(2):\n",
    "                     if (ValidPlacement(Board,i,j,k,length)==1):\n",
    "                            valid_placements.append([i,j,k])\n",
    "        Ship[2] = valid_placements"
   ]
  },
  {
   "cell_type": "code",
   "execution_count": 5,
   "metadata": {
    "collapsed": false
   },
   "outputs": [],
   "source": [
    "def SpacesOccupied(length,location):\n",
    "    #length = length of ship\n",
    "    #location = [i,j,k]\n",
    "    #Returns list of spaces occupied by ship\n",
    "    \n",
    "    occupied = []\n",
    "    i,j,k = location\n",
    "    \n",
    "    if (k==0):\n",
    "        for l in range(length):\n",
    "            occupied.append((i,j+l))\n",
    "    if (k==1):\n",
    "        for l in range(length):\n",
    "            occupied.append((i+l,j))\n",
    "        \n",
    "    return occupied"
   ]
  },
  {
   "cell_type": "code",
   "execution_count": 6,
   "metadata": {
    "collapsed": true
   },
   "outputs": [],
   "source": [
    "def RandomSample(Ship_List):\n",
    "    # Ship_List = [\"Ship_Name\", length, locations]\n",
    "    # Return: Data frame of board with 1s for ship positions\n",
    "    #        or all 0s if not a valid arrangement\n",
    "    \n",
    "    PDF = pd.DataFrame(index=range(1,11), columns=range(1,11))\n",
    "    PDF = PDF.fillna(0) # with 0s rather than NaNs\n",
    "    \n",
    "    locations = []\n",
    "    for s in range(len(Ship_List)):\n",
    "        Ship = Ship_List[s]\n",
    "        position = random.choice(Ship[2])\n",
    "        spaces = SpacesOccupied(Ship[1],position)\n",
    "        locations.extend(spaces)\n",
    "    #Check if valid configuration\n",
    "    if(len(locations) == len(set(locations))):\n",
    "        for t in locations:\n",
    "            PDF.loc[t] = 1\n",
    "        return PDF\n",
    "    else:\n",
    "        return False        "
   ]
  },
  {
   "cell_type": "code",
   "execution_count": 18,
   "metadata": {
    "collapsed": true
   },
   "outputs": [],
   "source": [
    "def NSamples(N,M,Ship_List):\n",
    "    #N = Number of samples wanted\n",
    "    #M = Max number of iterations\n",
    "    #Ship_List = [\"Ship_Name\", length, locations]\n",
    "    #Returns: (DF, S) Data frame of accumulated possible locations and number of actual samples taken\n",
    "    \n",
    "    PDF = pd.DataFrame(index=range(1,11), columns=range(1,11))\n",
    "    PDF = PDF.fillna(0) # with 0s rather than NaNs\n",
    "    n = 0\n",
    "    m = 0\n",
    "    while( (n<N) & (m<M) ):\n",
    "        m = m + 1\n",
    "        Result = RandomSample(Ship_List)\n",
    "        if (type(Result) != bool):\n",
    "            PDF = PDF + Result\n",
    "            n = n+1\n",
    "    \n",
    "    return(PDF,n)"
   ]
  },
  {
   "cell_type": "markdown",
   "metadata": {
    "collapsed": true
   },
   "source": [
    "##### Initialize Board"
   ]
  },
  {
   "cell_type": "code",
   "execution_count": 58,
   "metadata": {
    "collapsed": true
   },
   "outputs": [],
   "source": [
    "Board = {}\n",
    "for i in range(1,11):\n",
    "    Board[i] = {}\n",
    "    for j in range(1,11):\n",
    "        Board[i][j] = 0 "
   ]
  },
  {
   "cell_type": "markdown",
   "metadata": {},
   "source": [
    "##### Example"
   ]
  },
  {
   "cell_type": "code",
   "execution_count": 65,
   "metadata": {
    "collapsed": true
   },
   "outputs": [],
   "source": [
    "Board[5][5] = 1\n",
    "Board[5][6] = 1\n",
    "Board[6][5] = 1\n",
    "Board[6][6] = 1\n",
    "\n",
    "Board[2][2] = 1\n",
    "Board[3][3] = 1\n",
    "Board[4][4] = 1\n",
    "Board[5][1] = 1\n",
    "\n",
    "Board[10][10] = 1\n",
    "Board[8][3] = 1\n",
    "Board[2][7] = 1\n",
    "Board[10][9] = 1"
   ]
  },
  {
   "cell_type": "code",
   "execution_count": 66,
   "metadata": {
    "collapsed": false
   },
   "outputs": [],
   "source": [
    "ValidLocations(Board, Enemy_Ships)"
   ]
  },
  {
   "cell_type": "code",
   "execution_count": 67,
   "metadata": {
    "collapsed": false,
    "scrolled": true
   },
   "outputs": [],
   "source": [
    "PDF,n = NSamples(2000,6000,Enemy_Ships)"
   ]
  },
  {
   "cell_type": "code",
   "execution_count": 68,
   "metadata": {
    "collapsed": false
   },
   "outputs": [
    {
     "data": {
      "text/html": [
       "<div>\n",
       "<table border=\"1\" class=\"dataframe\">\n",
       "  <thead>\n",
       "    <tr style=\"text-align: right;\">\n",
       "      <th></th>\n",
       "      <th>1</th>\n",
       "      <th>2</th>\n",
       "      <th>3</th>\n",
       "      <th>4</th>\n",
       "      <th>5</th>\n",
       "      <th>6</th>\n",
       "      <th>7</th>\n",
       "      <th>8</th>\n",
       "      <th>9</th>\n",
       "      <th>10</th>\n",
       "    </tr>\n",
       "  </thead>\n",
       "  <tbody>\n",
       "    <tr>\n",
       "      <th>1</th>\n",
       "      <td>229</td>\n",
       "      <td>269</td>\n",
       "      <td>394</td>\n",
       "      <td>486</td>\n",
       "      <td>530</td>\n",
       "      <td>506</td>\n",
       "      <td>388</td>\n",
       "      <td>444</td>\n",
       "      <td>368</td>\n",
       "      <td>232</td>\n",
       "    </tr>\n",
       "    <tr>\n",
       "      <th>2</th>\n",
       "      <td>152</td>\n",
       "      <td>0</td>\n",
       "      <td>123</td>\n",
       "      <td>240</td>\n",
       "      <td>279</td>\n",
       "      <td>219</td>\n",
       "      <td>0</td>\n",
       "      <td>276</td>\n",
       "      <td>309</td>\n",
       "      <td>284</td>\n",
       "    </tr>\n",
       "    <tr>\n",
       "      <th>3</th>\n",
       "      <td>156</td>\n",
       "      <td>145</td>\n",
       "      <td>0</td>\n",
       "      <td>165</td>\n",
       "      <td>359</td>\n",
       "      <td>479</td>\n",
       "      <td>469</td>\n",
       "      <td>616</td>\n",
       "      <td>539</td>\n",
       "      <td>458</td>\n",
       "    </tr>\n",
       "    <tr>\n",
       "      <th>4</th>\n",
       "      <td>148</td>\n",
       "      <td>309</td>\n",
       "      <td>132</td>\n",
       "      <td>0</td>\n",
       "      <td>208</td>\n",
       "      <td>291</td>\n",
       "      <td>474</td>\n",
       "      <td>555</td>\n",
       "      <td>546</td>\n",
       "      <td>474</td>\n",
       "    </tr>\n",
       "    <tr>\n",
       "      <th>5</th>\n",
       "      <td>0</td>\n",
       "      <td>386</td>\n",
       "      <td>214</td>\n",
       "      <td>168</td>\n",
       "      <td>0</td>\n",
       "      <td>0</td>\n",
       "      <td>375</td>\n",
       "      <td>448</td>\n",
       "      <td>530</td>\n",
       "      <td>500</td>\n",
       "    </tr>\n",
       "    <tr>\n",
       "      <th>6</th>\n",
       "      <td>218</td>\n",
       "      <td>527</td>\n",
       "      <td>281</td>\n",
       "      <td>307</td>\n",
       "      <td>0</td>\n",
       "      <td>0</td>\n",
       "      <td>401</td>\n",
       "      <td>441</td>\n",
       "      <td>477</td>\n",
       "      <td>432</td>\n",
       "    </tr>\n",
       "    <tr>\n",
       "      <th>7</th>\n",
       "      <td>333</td>\n",
       "      <td>594</td>\n",
       "      <td>389</td>\n",
       "      <td>644</td>\n",
       "      <td>456</td>\n",
       "      <td>465</td>\n",
       "      <td>652</td>\n",
       "      <td>547</td>\n",
       "      <td>497</td>\n",
       "      <td>407</td>\n",
       "    </tr>\n",
       "    <tr>\n",
       "      <th>8</th>\n",
       "      <td>312</td>\n",
       "      <td>361</td>\n",
       "      <td>0</td>\n",
       "      <td>375</td>\n",
       "      <td>301</td>\n",
       "      <td>403</td>\n",
       "      <td>564</td>\n",
       "      <td>539</td>\n",
       "      <td>443</td>\n",
       "      <td>336</td>\n",
       "    </tr>\n",
       "    <tr>\n",
       "      <th>9</th>\n",
       "      <td>381</td>\n",
       "      <td>476</td>\n",
       "      <td>331</td>\n",
       "      <td>597</td>\n",
       "      <td>512</td>\n",
       "      <td>502</td>\n",
       "      <td>550</td>\n",
       "      <td>501</td>\n",
       "      <td>348</td>\n",
       "      <td>245</td>\n",
       "    </tr>\n",
       "    <tr>\n",
       "      <th>10</th>\n",
       "      <td>288</td>\n",
       "      <td>338</td>\n",
       "      <td>362</td>\n",
       "      <td>536</td>\n",
       "      <td>490</td>\n",
       "      <td>425</td>\n",
       "      <td>347</td>\n",
       "      <td>197</td>\n",
       "      <td>0</td>\n",
       "      <td>0</td>\n",
       "    </tr>\n",
       "  </tbody>\n",
       "</table>\n",
       "</div>"
      ],
      "text/plain": [
       "     1    2    3    4    5    6    7    8    9    10\n",
       "1   229  269  394  486  530  506  388  444  368  232\n",
       "2   152    0  123  240  279  219    0  276  309  284\n",
       "3   156  145    0  165  359  479  469  616  539  458\n",
       "4   148  309  132    0  208  291  474  555  546  474\n",
       "5     0  386  214  168    0    0  375  448  530  500\n",
       "6   218  527  281  307    0    0  401  441  477  432\n",
       "7   333  594  389  644  456  465  652  547  497  407\n",
       "8   312  361    0  375  301  403  564  539  443  336\n",
       "9   381  476  331  597  512  502  550  501  348  245\n",
       "10  288  338  362  536  490  425  347  197    0    0"
      ]
     },
     "execution_count": 68,
     "metadata": {},
     "output_type": "execute_result"
    }
   ],
   "source": [
    "PDF"
   ]
  },
  {
   "cell_type": "code",
   "execution_count": 69,
   "metadata": {
    "collapsed": false
   },
   "outputs": [
    {
     "data": {
      "text/html": [
       "<div>\n",
       "<table border=\"1\" class=\"dataframe\">\n",
       "  <thead>\n",
       "    <tr style=\"text-align: right;\">\n",
       "      <th></th>\n",
       "      <th>1</th>\n",
       "      <th>2</th>\n",
       "      <th>3</th>\n",
       "      <th>4</th>\n",
       "      <th>5</th>\n",
       "      <th>6</th>\n",
       "      <th>7</th>\n",
       "      <th>8</th>\n",
       "      <th>9</th>\n",
       "      <th>10</th>\n",
       "    </tr>\n",
       "  </thead>\n",
       "  <tbody>\n",
       "    <tr>\n",
       "      <th>1</th>\n",
       "      <td>0.1145</td>\n",
       "      <td>0.1345</td>\n",
       "      <td>0.1970</td>\n",
       "      <td>0.2430</td>\n",
       "      <td>0.2650</td>\n",
       "      <td>0.2530</td>\n",
       "      <td>0.1940</td>\n",
       "      <td>0.2220</td>\n",
       "      <td>0.1840</td>\n",
       "      <td>0.1160</td>\n",
       "    </tr>\n",
       "    <tr>\n",
       "      <th>2</th>\n",
       "      <td>0.0760</td>\n",
       "      <td>0.0000</td>\n",
       "      <td>0.0615</td>\n",
       "      <td>0.1200</td>\n",
       "      <td>0.1395</td>\n",
       "      <td>0.1095</td>\n",
       "      <td>0.0000</td>\n",
       "      <td>0.1380</td>\n",
       "      <td>0.1545</td>\n",
       "      <td>0.1420</td>\n",
       "    </tr>\n",
       "    <tr>\n",
       "      <th>3</th>\n",
       "      <td>0.0780</td>\n",
       "      <td>0.0725</td>\n",
       "      <td>0.0000</td>\n",
       "      <td>0.0825</td>\n",
       "      <td>0.1795</td>\n",
       "      <td>0.2395</td>\n",
       "      <td>0.2345</td>\n",
       "      <td>0.3080</td>\n",
       "      <td>0.2695</td>\n",
       "      <td>0.2290</td>\n",
       "    </tr>\n",
       "    <tr>\n",
       "      <th>4</th>\n",
       "      <td>0.0740</td>\n",
       "      <td>0.1545</td>\n",
       "      <td>0.0660</td>\n",
       "      <td>0.0000</td>\n",
       "      <td>0.1040</td>\n",
       "      <td>0.1455</td>\n",
       "      <td>0.2370</td>\n",
       "      <td>0.2775</td>\n",
       "      <td>0.2730</td>\n",
       "      <td>0.2370</td>\n",
       "    </tr>\n",
       "    <tr>\n",
       "      <th>5</th>\n",
       "      <td>0.0000</td>\n",
       "      <td>0.1930</td>\n",
       "      <td>0.1070</td>\n",
       "      <td>0.0840</td>\n",
       "      <td>0.0000</td>\n",
       "      <td>0.0000</td>\n",
       "      <td>0.1875</td>\n",
       "      <td>0.2240</td>\n",
       "      <td>0.2650</td>\n",
       "      <td>0.2500</td>\n",
       "    </tr>\n",
       "    <tr>\n",
       "      <th>6</th>\n",
       "      <td>0.1090</td>\n",
       "      <td>0.2635</td>\n",
       "      <td>0.1405</td>\n",
       "      <td>0.1535</td>\n",
       "      <td>0.0000</td>\n",
       "      <td>0.0000</td>\n",
       "      <td>0.2005</td>\n",
       "      <td>0.2205</td>\n",
       "      <td>0.2385</td>\n",
       "      <td>0.2160</td>\n",
       "    </tr>\n",
       "    <tr>\n",
       "      <th>7</th>\n",
       "      <td>0.1665</td>\n",
       "      <td>0.2970</td>\n",
       "      <td>0.1945</td>\n",
       "      <td>0.3220</td>\n",
       "      <td>0.2280</td>\n",
       "      <td>0.2325</td>\n",
       "      <td>0.3260</td>\n",
       "      <td>0.2735</td>\n",
       "      <td>0.2485</td>\n",
       "      <td>0.2035</td>\n",
       "    </tr>\n",
       "    <tr>\n",
       "      <th>8</th>\n",
       "      <td>0.1560</td>\n",
       "      <td>0.1805</td>\n",
       "      <td>0.0000</td>\n",
       "      <td>0.1875</td>\n",
       "      <td>0.1505</td>\n",
       "      <td>0.2015</td>\n",
       "      <td>0.2820</td>\n",
       "      <td>0.2695</td>\n",
       "      <td>0.2215</td>\n",
       "      <td>0.1680</td>\n",
       "    </tr>\n",
       "    <tr>\n",
       "      <th>9</th>\n",
       "      <td>0.1905</td>\n",
       "      <td>0.2380</td>\n",
       "      <td>0.1655</td>\n",
       "      <td>0.2985</td>\n",
       "      <td>0.2560</td>\n",
       "      <td>0.2510</td>\n",
       "      <td>0.2750</td>\n",
       "      <td>0.2505</td>\n",
       "      <td>0.1740</td>\n",
       "      <td>0.1225</td>\n",
       "    </tr>\n",
       "    <tr>\n",
       "      <th>10</th>\n",
       "      <td>0.1440</td>\n",
       "      <td>0.1690</td>\n",
       "      <td>0.1810</td>\n",
       "      <td>0.2680</td>\n",
       "      <td>0.2450</td>\n",
       "      <td>0.2125</td>\n",
       "      <td>0.1735</td>\n",
       "      <td>0.0985</td>\n",
       "      <td>0.0000</td>\n",
       "      <td>0.0000</td>\n",
       "    </tr>\n",
       "  </tbody>\n",
       "</table>\n",
       "</div>"
      ],
      "text/plain": [
       "        1       2       3       4       5       6       7       8       9   \\\n",
       "1   0.1145  0.1345  0.1970  0.2430  0.2650  0.2530  0.1940  0.2220  0.1840   \n",
       "2   0.0760  0.0000  0.0615  0.1200  0.1395  0.1095  0.0000  0.1380  0.1545   \n",
       "3   0.0780  0.0725  0.0000  0.0825  0.1795  0.2395  0.2345  0.3080  0.2695   \n",
       "4   0.0740  0.1545  0.0660  0.0000  0.1040  0.1455  0.2370  0.2775  0.2730   \n",
       "5   0.0000  0.1930  0.1070  0.0840  0.0000  0.0000  0.1875  0.2240  0.2650   \n",
       "6   0.1090  0.2635  0.1405  0.1535  0.0000  0.0000  0.2005  0.2205  0.2385   \n",
       "7   0.1665  0.2970  0.1945  0.3220  0.2280  0.2325  0.3260  0.2735  0.2485   \n",
       "8   0.1560  0.1805  0.0000  0.1875  0.1505  0.2015  0.2820  0.2695  0.2215   \n",
       "9   0.1905  0.2380  0.1655  0.2985  0.2560  0.2510  0.2750  0.2505  0.1740   \n",
       "10  0.1440  0.1690  0.1810  0.2680  0.2450  0.2125  0.1735  0.0985  0.0000   \n",
       "\n",
       "        10  \n",
       "1   0.1160  \n",
       "2   0.1420  \n",
       "3   0.2290  \n",
       "4   0.2370  \n",
       "5   0.2500  \n",
       "6   0.2160  \n",
       "7   0.2035  \n",
       "8   0.1680  \n",
       "9   0.1225  \n",
       "10  0.0000  "
      ]
     },
     "execution_count": 69,
     "metadata": {},
     "output_type": "execute_result"
    }
   ],
   "source": [
    "PDF/n"
   ]
  },
  {
   "cell_type": "code",
   "execution_count": 70,
   "metadata": {
    "collapsed": false
   },
   "outputs": [
    {
     "data": {
      "text/plain": [
       "2000"
      ]
     },
     "execution_count": 70,
     "metadata": {},
     "output_type": "execute_result"
    }
   ],
   "source": [
    "n"
   ]
  },
  {
   "cell_type": "markdown",
   "metadata": {},
   "source": [
    "### To Do"
   ]
  },
  {
   "cell_type": "markdown",
   "metadata": {},
   "source": [
    "1. Code should be divided into \"Ship Search\" and \"Ship Sink\" methods\n",
    "    * Ship Search - tries to find ship to sink (mostly written)\n",
    "    * Ship Sink - tries to sink ship when one is found (need to write)\n",
    "2. Find space with highest probability to shoot into for \"Ship Search\"\n",
    "3. Write \"Ship Sink\" method\n",
    "    * If enemy ship is hit, iterate through list of possible ships that were hit to find most likely direction to start testing\n",
    "    * Edge cases very important. Possible to hit multiple ships in trying tosink one so \"ship sunk\" queue very important\n",
    "    "
   ]
  }
 ],
 "metadata": {
  "anaconda-cloud": {},
  "kernelspec": {
   "display_name": "Python [default]",
   "language": "python",
   "name": "python3"
  },
  "language_info": {
   "codemirror_mode": {
    "name": "ipython",
    "version": 3
   },
   "file_extension": ".py",
   "mimetype": "text/x-python",
   "name": "python",
   "nbconvert_exporter": "python",
   "pygments_lexer": "ipython3",
   "version": "3.5.2"
  }
 },
 "nbformat": 4,
 "nbformat_minor": 1
}
