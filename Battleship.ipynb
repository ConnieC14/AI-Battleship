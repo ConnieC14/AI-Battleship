{
 "cells": [
  {
   "cell_type": "code",
   "execution_count": 493,
   "metadata": {
    "collapsed": true
   },
   "outputs": [],
   "source": [
    "import copy\n",
    "import random\n",
    "import pandas as pd\n",
    "import numpy as np"
   ]
  },
  {
   "cell_type": "markdown",
   "metadata": {},
   "source": [
    "# Battleship"
   ]
  },
  {
   "cell_type": "markdown",
   "metadata": {},
   "source": [
    "Rules:\n",
    "1. Each player arranges ships according to fleet\n",
    "2. Take turns firing a shot\n",
    "3. Mark Hits and Misses\n",
    "4. Call out when a ship has been sunk\n",
    "5. Sink all to win"
   ]
  },
  {
   "cell_type": "markdown",
   "metadata": {},
   "source": [
    "Ships:\n",
    "1. Carrier - 5\n",
    "2. Battleship - 4\n",
    "3. Cruiser - 3\n",
    "4. Submarine - 3\n",
    "5. Destroyer -2"
   ]
  },
  {
   "cell_type": "markdown",
   "metadata": {},
   "source": [
    "10 Rows x 10 Columns  \n",
    "\n",
    "|   |   |   |   |   |   |   |   |   |   |\n",
    "|---|---|---|---|---|---|---|---|---|---|\n",
    "|   |   |   |   |   |   |   |   |   |   |\n",
    "|   |   |   |   |   |   |   |   |   |   |\n",
    "|   |   |   |   |   |   |   |   |   |   |\n",
    "|   |   |   |   |   |   |   |   |   |   |\n",
    "|   |   |   |   |   |   |   |   |   |   |\n",
    "|   |   |   |   |   |   |   |   |   |   |\n",
    "|   |   |   |   |   |   |   |   |   |   |\n",
    "|   |   |   |   |   |   |   |   |   |   |\n",
    "|   |   |   |   |   |   |   |   |   |   |"
   ]
  },
  {
   "cell_type": "markdown",
   "metadata": {},
   "source": [
    "##### Parameters"
   ]
  },
  {
   "cell_type": "code",
   "execution_count": 494,
   "metadata": {
    "collapsed": true
   },
   "outputs": [],
   "source": [
    "Enemy_Ships = [[\"Carrier\", 5, []],\n",
    "               [\"Battleship\", 4, []],\n",
    "               [\"Cruiser\", 3, []],\n",
    "               [\"Submarine\", 3, []],\n",
    "               [\"Destroyer\", 2, []]]"
   ]
  },
  {
   "cell_type": "markdown",
   "metadata": {},
   "source": [
    "##### Helper Functions"
   ]
  },
  {
   "cell_type": "code",
   "execution_count": 495,
   "metadata": {
    "collapsed": true
   },
   "outputs": [],
   "source": [
    "# Is current proposed ship allocation valid?\n",
    "\n",
    "def ValidPlacement(Board, i, j, k, length):\n",
    "    # Board = Dictionary for Board\n",
    "    # i = row of ship\n",
    "    # j = column of ship\n",
    "    # k = orientation of ship (0 = hoz, 1 = vert)\n",
    "    # length = length of ship\n",
    "    \n",
    "    #Horizontal Ship\n",
    "    if (k == 0):\n",
    "        if (j>11-length):\n",
    "            return 0\n",
    "        else:\n",
    "            occupied = 0\n",
    "            for l in range(length):\n",
    "                occupied = occupied + Board[i][j+l]\n",
    "            if(occupied == 0):\n",
    "                return 1\n",
    "            else:\n",
    "                return 0\n",
    "            \n",
    "    #Vertical Ship\n",
    "    if (k == 1):\n",
    "        if (i>11-length):\n",
    "            return 0\n",
    "        else:\n",
    "            occupied = 0\n",
    "            for l in range(length):\n",
    "                occupied = occupied + Board[i+l][j]\n",
    "            if(occupied == 0):\n",
    "                return 1\n",
    "            else:\n",
    "                return 0"
   ]
  },
  {
   "cell_type": "code",
   "execution_count": 496,
   "metadata": {
    "collapsed": true
   },
   "outputs": [],
   "source": [
    "def ValidLocations(Board, Ship_List):\n",
    "    #Wri\n",
    "    #Board: dictionary for occupied spaces\n",
    "    #Ship_List: Array with ship name, length, 3rd index to place valid locations \n",
    "    #          [\"Ship_Name\", length, []]\n",
    "    \n",
    "    for s in range(len(Ship_List)):\n",
    "        valid_placements = []\n",
    "        Ship = Ship_List[s]\n",
    "        length = Ship[1]\n",
    "\n",
    "        for i in range(1,11):\n",
    "            for j in range(1,11):\n",
    "                for k in range(2):\n",
    "                     if (ValidPlacement(Board,i,j,k,length)==1):\n",
    "                            valid_placements.append([i,j,k])\n",
    "        Ship[2] = valid_placements"
   ]
  },
  {
   "cell_type": "code",
   "execution_count": 497,
   "metadata": {
    "collapsed": false
   },
   "outputs": [],
   "source": [
    "def SpacesOccupied(length,location):\n",
    "    #length = length of ship\n",
    "    #location = [i,j,k]\n",
    "    #Returns list of spaces occupied by ship\n",
    "    \n",
    "    occupied = []\n",
    "    i,j,k = location\n",
    "    \n",
    "    if (k==0):\n",
    "        for l in range(length):\n",
    "            occupied.append((i,j+l))\n",
    "    if (k==1):\n",
    "        for l in range(length):\n",
    "            occupied.append((i+l,j))\n",
    "        \n",
    "    return occupied"
   ]
  },
  {
   "cell_type": "code",
   "execution_count": 498,
   "metadata": {
    "collapsed": true
   },
   "outputs": [],
   "source": [
    "def RandomSample(Ship_List):\n",
    "    # Ship_List = [\"Ship_Name\", length, locations]\n",
    "    # Return: Data frame of board with 1s for ship positions\n",
    "    #        or all 0s if not a valid arrangement\n",
    "    \n",
    "    PDF = pd.DataFrame(index=range(1,11), columns=range(1,11))\n",
    "    PDF = PDF.fillna(0) # with 0s rather than NaNs\n",
    "    \n",
    "    locations = []\n",
    "    for s in range(len(Ship_List)):\n",
    "        Ship = Ship_List[s]\n",
    "        position = random.choice(Ship[2])\n",
    "        spaces = SpacesOccupied(Ship[1],position)\n",
    "        locations.extend(spaces)\n",
    "    #Check if valid configuration\n",
    "    if(len(locations) == len(set(locations))):\n",
    "        for t in locations:\n",
    "            PDF.loc[t] = 1\n",
    "        return PDF\n",
    "    else:\n",
    "        return False        "
   ]
  },
  {
   "cell_type": "code",
   "execution_count": 499,
   "metadata": {
    "collapsed": true
   },
   "outputs": [],
   "source": [
    "def NSamples(N,M,Ship_List):\n",
    "    #N = Number of samples wanted\n",
    "    #M = Max number of iterations\n",
    "    #Ship_List = [\"Ship_Name\", length, locations]\n",
    "    #Returns: (DF, S) Data frame of accumulated possible locations and number of actual samples taken\n",
    "    \n",
    "    PDF = pd.DataFrame(index=range(1,11), columns=range(1,11))\n",
    "    PDF = PDF.fillna(0) # with 0s rather than NaNs\n",
    "    n = 0\n",
    "    m = 0\n",
    "    while( (n<N) & (m<M) ):\n",
    "        m = m + 1\n",
    "        Result = RandomSample(Ship_List)\n",
    "        if (type(Result) != bool):\n",
    "            PDF = PDF + Result\n",
    "            n = n+1\n",
    "    \n",
    "    return(PDF,n)"
   ]
  },
  {
   "cell_type": "markdown",
   "metadata": {
    "collapsed": true
   },
   "source": [
    "##### Initialize Board"
   ]
  },
  {
   "cell_type": "code",
   "execution_count": 500,
   "metadata": {
    "collapsed": false
   },
   "outputs": [],
   "source": [
    "def initBoard():\n",
    "    Board = {}\n",
    "    for i in range(1,11):\n",
    "        Board[i] = {}\n",
    "        for j in range(1,11):\n",
    "            Board[i][j] = 0 \n",
    "            \n",
    "    return Board"
   ]
  },
  {
   "cell_type": "code",
   "execution_count": 501,
   "metadata": {
    "collapsed": true
   },
   "outputs": [],
   "source": [
    "Board = initBoard()"
   ]
  },
  {
   "cell_type": "markdown",
   "metadata": {},
   "source": [
    "##### Example"
   ]
  },
  {
   "cell_type": "code",
   "execution_count": 502,
   "metadata": {
    "collapsed": false
   },
   "outputs": [],
   "source": [
    "Board[5][5] = 1\n",
    "Board[5][6] = 1\n",
    "Board[6][5] = 1\n",
    "Board[6][6] = 1\n",
    "\n",
    "Board[2][2] = 1\n",
    "Board[3][3] = 1\n",
    "Board[4][4] = 1\n",
    "Board[5][1] = 1\n",
    "\n",
    "Board[10][10] = 1\n",
    "Board[8][3] = 1\n",
    "Board[2][7] = 1\n",
    "Board[10][9] = 1"
   ]
  },
  {
   "cell_type": "code",
   "execution_count": 503,
   "metadata": {
    "collapsed": false
   },
   "outputs": [],
   "source": [
    "def dispBoard(Board):\n",
    "    #Board: dictionary for occupied spaces\n",
    "\n",
    "    DispBoard = np.zeros((10,10))\n",
    "\n",
    "    for i in range(1,11):\n",
    "        for j in range(1,11):\n",
    "            if Board[i][j] == 0:\n",
    "                DispBoard[i-1][j-1] = 0\n",
    "            else:\n",
    "                DispBoard[i-1][j-1] = 1\n",
    "\n",
    "    print(DispBoard)"
   ]
  },
  {
   "cell_type": "code",
   "execution_count": 504,
   "metadata": {
    "collapsed": false
   },
   "outputs": [],
   "source": [
    "ValidLocations(Board, Enemy_Ships)"
   ]
  },
  {
   "cell_type": "code",
   "execution_count": 505,
   "metadata": {
    "collapsed": false,
    "scrolled": true
   },
   "outputs": [],
   "source": [
    "PDF,n = NSamples(2000,6000,Enemy_Ships)"
   ]
  },
  {
   "cell_type": "code",
   "execution_count": 506,
   "metadata": {
    "collapsed": false
   },
   "outputs": [],
   "source": [
    "# PDF"
   ]
  },
  {
   "cell_type": "code",
   "execution_count": 507,
   "metadata": {
    "collapsed": false
   },
   "outputs": [],
   "source": [
    "# PDF/n"
   ]
  },
  {
   "cell_type": "code",
   "execution_count": 508,
   "metadata": {
    "collapsed": false
   },
   "outputs": [],
   "source": [
    "# n"
   ]
  },
  {
   "cell_type": "code",
   "execution_count": 509,
   "metadata": {
    "collapsed": false
   },
   "outputs": [],
   "source": [
    "# a = np.array([[1,3,2],[8,7,9],[5,6,4]])\n",
    "# #print(a)\n",
    "# arr = np.where(a==a.max())\n",
    "# x = arr[0]\n",
    "# y = arr[1]\n",
    "# #print(a[x].flatten()[y])"
   ]
  },
  {
   "cell_type": "code",
   "execution_count": 510,
   "metadata": {
    "collapsed": true
   },
   "outputs": [],
   "source": [
    "def isHit(Board, Enemies, x, y):\n",
    "    # isHit = [Board, Enemy_Ships, x, y]\n",
    "    # Board: dictionary for occupied spaces\n",
    "    # Enemies: shadow board containing all occupied spaces\n",
    "    # x, y: target x-y coordinates on board\n",
    "    # Returns: whether or not it's a hit!\n",
    "    \n",
    "    if Enemies[x,y]:\n",
    "#         print('hit!')\n",
    "        return 1\n",
    "    else:\n",
    "#         print('miss!')\n",
    "        return 0"
   ]
  },
  {
   "cell_type": "code",
   "execution_count": 511,
   "metadata": {
    "collapsed": false
   },
   "outputs": [],
   "source": [
    "def ShipSearch(Board, Enemy_Ships):\n",
    "    # ShipSearch = [Board, Enemy_Ships]\n",
    "    # Board: dictionary for occupied spaces\n",
    "    # Enemy_Ships: Array with ship name, length, 3rd index to place valid locations \n",
    "    #          [\"Ship_Name\", length, []]\n",
    "    # Returns: x,y coordinates of chosen spot (on board)\n",
    "    \n",
    "    # What is a good choice for N and M in NSamples?\n",
    "    ValidLocations(Board, Enemy_Ships)\n",
    "    PDF,n = NSamples(2000,6000,Enemy_Ships)\n",
    "    \n",
    "    arr = np.where(PDF==max(PDF.max()))\n",
    "    x = (arr[0]+1)[0]\n",
    "    y = (arr[1]+1)[0]\n",
    "    #because max PDF[x][y] corresponds to Board[x+1][y+1]\n",
    "        \n",
    "    return x,y"
   ]
  },
  {
   "cell_type": "code",
   "execution_count": 512,
   "metadata": {
    "collapsed": false
   },
   "outputs": [],
   "source": [
    "# np.max(PDF.max())"
   ]
  },
  {
   "cell_type": "code",
   "execution_count": 513,
   "metadata": {
    "collapsed": false
   },
   "outputs": [],
   "source": [
    "# x,y = ShipSearch(Board,Enemy_Ships)\n",
    "# Board[x][y] = 1"
   ]
  },
  {
   "cell_type": "code",
   "execution_count": 514,
   "metadata": {
    "collapsed": false,
    "scrolled": true
   },
   "outputs": [],
   "source": [
    "# print(x)\n",
    "# print(y)\n",
    "# #print(Enemy_Ships)"
   ]
  },
  {
   "cell_type": "code",
   "execution_count": 515,
   "metadata": {
    "collapsed": false
   },
   "outputs": [],
   "source": [
    "def isCollision(Field, x, y, orientation, length):\n",
    "    # isCollision = [Field, x, y, orientation, length]\n",
    "    # Field = holds grid to place ships on\n",
    "    # x , y = desired position of ship\n",
    "    # orientation = orientation of ship (0 = hoz, 1 = vert)\n",
    "    # length = length of ship\n",
    "    # Returns 1 if collision occurs, 0 if ship can be placed.\n",
    "    \n",
    "    # Out of bounds\n",
    "    if (x < 0 or y < 0 or x > 9 or y > 9):\n",
    "        return 1\n",
    "    \n",
    "    for i in range(length):\n",
    "        # Horizontal Ship\n",
    "        if (orientation == 0):\n",
    "            if y+length > 9:\n",
    "                return 1\n",
    "            if Field[x][y+i]:\n",
    "                return 1\n",
    "        #Vertical Ship\n",
    "        elif (orientation == 1):\n",
    "            if x+length > 9:\n",
    "                return 1\n",
    "            if Field[x+i][y]:\n",
    "                return 1\n",
    "    \n",
    "    return 0"
   ]
  },
  {
   "cell_type": "code",
   "execution_count": 516,
   "metadata": {
    "collapsed": false
   },
   "outputs": [],
   "source": [
    "def placeShip(Field, x, y, orientation, length):\n",
    "    # placeShip = [Field, length, orientation, x, y]\n",
    "    # Field: dictionary for occupied spaces\n",
    "    # x , y = desired position of ship\n",
    "    # orientation = orientation of ship (0 = hoz, 1 = vert)\n",
    "    # length: length of ship to be placed\n",
    "    # Returns: 1 if ship was placed, 0 otherwise\n",
    "    #          and updates Field\n",
    "    \n",
    "    # Note: the initial point of the ship is at (x,y) and the rest of\n",
    "    #         the ship is at (x+length,y) for vertical placement and\n",
    "    #         (x,y+length) for horizontal placement\n",
    "    \n",
    "    if isCollision(Field, x, y, orientation, length):\n",
    "        return 0\n",
    "    else:\n",
    "        for i in range(length):   \n",
    "            # Vertical Ship\n",
    "            if (orientation == 1):\n",
    "                Field[x+i][y] = 1\n",
    "            #Horizontal Ship\n",
    "            elif (orientation == 0):\n",
    "                Field[x][y+i] = 1\n",
    "        return 1"
   ]
  },
  {
   "cell_type": "code",
   "execution_count": 517,
   "metadata": {
    "collapsed": false
   },
   "outputs": [],
   "source": [
    "def initEnemies():\n",
    "    Enemies = np.zeros((10,10))\n",
    "    #5 4 3 3 2\n",
    "    placeShip(Enemies,0,0,0,5)\n",
    "    placeShip(Enemies,0,9,1,4)\n",
    "    placeShip(Enemies,4,4,0,3)\n",
    "    placeShip(Enemies,5,5,0,3)\n",
    "    placeShip(Enemies,8,2,0,2)\n",
    "    \n",
    "    return Enemies\n"
   ]
  },
  {
   "cell_type": "code",
   "execution_count": 518,
   "metadata": {
    "collapsed": false
   },
   "outputs": [],
   "source": [
    "# ShipQueueX = []\n",
    "# ShipQueueY = []\n",
    "# Enemies = np.zeros((10,10))\n",
    "# if isHit(Board,Enemies,x,y):\n",
    "#     ShipQueueX = np.append(ShipQueueX,x)\n",
    "#     ShipQueueY = np.append(ShipQueueY,y)\n",
    "\n",
    "# print(ShipQueueX)\n",
    "# print(ShipQueueY)\n",
    "\n",
    "# Enemies = np.ones((10,10))\n",
    "# if isHit(Board,Enemies,x,y):\n",
    "#     ShipQueueX = np.append(ShipQueueX,x)\n",
    "#     ShipQueueY = np.append(ShipQueueY,y)\n",
    "    \n",
    "# print(ShipQueueX)\n",
    "# print(ShipQueueY)\n",
    "    \n",
    "# if isHit(Board,Enemies,x,y):\n",
    "#     ShipQueueX = np.append(ShipQueueX,x)\n",
    "#     ShipQueueY = np.append(ShipQueueY,y)\n",
    "\n",
    "# print(ShipQueueX)\n",
    "# print(ShipQueueY)"
   ]
  },
  {
   "cell_type": "code",
   "execution_count": 519,
   "metadata": {
    "collapsed": false
   },
   "outputs": [],
   "source": [
    "# ShipQueueX = []\n",
    "# ShipQueueY = []\n",
    "\n",
    "# if isHit(Board,Enemies,x,y):\n",
    "#     ShipQueueX = np.append(ShipQueueX,x)\n",
    "#     ShipQueueY = np.append(ShipQueueY,y)\n",
    "\n",
    "# x=0\n",
    "# y=0\n",
    "\n",
    "# if isHit(Board,Enemies,x,y):\n",
    "#     ShipQueueX = np.append(ShipQueueX,x)\n",
    "#     ShipQueueY = np.append(ShipQueueY,y)\n"
   ]
  },
  {
   "cell_type": "code",
   "execution_count": 520,
   "metadata": {
    "collapsed": false
   },
   "outputs": [],
   "source": [
    "# print(ShipQueueX)\n",
    "# print(ShipQueueY)\n",
    "# print(Enemy_Ships)"
   ]
  },
  {
   "cell_type": "code",
   "execution_count": 521,
   "metadata": {
    "collapsed": true
   },
   "outputs": [],
   "source": [
    "def ShipSink(Board, Enemy_Ships, ShipQueue):\n",
    "    # ShipSink = [Board, Enemy_Ships]\n",
    "    # Board: dictionary for occupied spaces\n",
    "    # Enemy_Ships: Array with ship name, length, 3rd index to place valid locations \n",
    "    #          [\"Ship_Name\", length, []]\n",
    "    # Returns: x,y coordinates of chosen spot (on board)\n",
    "    \n",
    "    \n",
    "    return 1"
   ]
  },
  {
   "cell_type": "code",
   "execution_count": 528,
   "metadata": {
    "collapsed": true
   },
   "outputs": [],
   "source": [
    "from IPython.display import clear_output\n",
    "import time"
   ]
  },
  {
   "cell_type": "code",
   "execution_count": null,
   "metadata": {
    "collapsed": true
   },
   "outputs": [],
   "source": [
    "# print(\"hihihi\")\n",
    "# time.sleep(2)\n",
    "# clear_output()\n",
    "# print(\"helloooo\")"
   ]
  },
  {
   "cell_type": "code",
   "execution_count": 522,
   "metadata": {
    "collapsed": false
   },
   "outputs": [],
   "source": [
    "# Take a turn\n",
    "#     if len(ShipQueue) == 0:\n",
    "#         ShipSearch(Board,Enemy_Ships)\n",
    "#     else:\n",
    "#         ShipSink(Board,Enemy_Ships,ShipQueue)\n",
    "def TakeTurn(Board,Enemy_Ships,ShipQueueX,ShipQueueY):\n",
    "    x,y = ShipSearch(Board,Enemy_Ships)\n",
    "    Board[x][y] = 1\n",
    "    if isHit(Board,Enemies,x,y):\n",
    "        ShipQueueX = np.append(ShipQueueX,x)\n",
    "        ShipQueueY = np.append(ShipQueueY,y)"
   ]
  },
  {
   "cell_type": "code",
   "execution_count": 539,
   "metadata": {
    "collapsed": false
   },
   "outputs": [
    {
     "name": "stdout",
     "output_type": "stream",
     "text": [
      "\n",
      "Updated Board\n",
      "[[ 0.  0.  0.  0.  0.  0.  0.  0.  0.  0.]\n",
      " [ 0.  0.  0.  0.  0.  0.  0.  0.  0.  0.]\n",
      " [ 0.  0.  0.  0.  0.  0.  0.  0.  0.  0.]\n",
      " [ 0.  0.  0.  0.  0.  0.  0.  0.  0.  0.]\n",
      " [ 0.  0.  0.  0.  0.  0.  0.  0.  0.  0.]\n",
      " [ 0.  0.  0.  1.  0.  0.  0.  0.  0.  0.]\n",
      " [ 0.  0.  0.  0.  0.  0.  0.  0.  0.  0.]\n",
      " [ 0.  0.  0.  0.  0.  0.  0.  0.  0.  0.]\n",
      " [ 0.  0.  0.  0.  0.  0.  0.  0.  0.  0.]\n",
      " [ 0.  0.  0.  0.  0.  0.  0.  0.  0.  0.]]\n",
      "\n",
      "ShipQueues\n",
      "[]\n",
      "[]\n"
     ]
    }
   ],
   "source": [
    "# Actual Game?\n",
    "\n",
    "#INITIALIZATIONS\n",
    "\n",
    "#Game board\n",
    "Board = initBoard()\n",
    "print(\"\\nBoard\")\n",
    "dispBoard(Board)\n",
    "\n",
    "#Enemy ships\n",
    "Enemies = initEnemies()\n",
    "print(\"\\nEnemy Positions\")\n",
    "print(Enemies)\n",
    "\n",
    "#Ship queue\n",
    "ShipQueueX = []\n",
    "ShipQueueY = []\n",
    "\n",
    "# time.sleep(2)\n",
    "\n",
    "#START GAME\n",
    "TakeTurn(Board,Enemy_Ships,ShipQueueX,ShipQueueY)\n",
    "clear_output()\n",
    "print(\"\\nUpdated Board\")\n",
    "dispBoard(Board)\n",
    "print(\"\\nShipQueues\")\n",
    "print(ShipQueueX)\n",
    "print(ShipQueueY)\n",
    "\n",
    "# while ~GameOver\n",
    "#     #if Player's turn:\n",
    "#         #take input and run on Computer's boards\n",
    "#     #otherwise is Computer's turn:\n",
    "#         #take a turn\n"
   ]
  },
  {
   "cell_type": "markdown",
   "metadata": {},
   "source": [
    "### To Do"
   ]
  },
  {
   "cell_type": "markdown",
   "metadata": {},
   "source": [
    "1. Code should be divided into \"Ship Search\" and \"Ship Sink\" methods\n",
    "    * Ship Search - tries to find ship to sink (mostly written)\n",
    "    * Ship Sink - tries to sink ship when one is found (need to write)\n",
    "2. Find space with highest probability to shoot into for \"Ship Search\"\n",
    "3. Write \"Ship Sink\" method\n",
    "    * If enemy ship is hit, iterate through list of possible ships that were hit to find most likely direction to start testing\n",
    "    * Edge cases very important. Possible to hit multiple ships in trying tosink one so \"ship sunk\" queue very important\n",
    "    "
   ]
  }
 ],
 "metadata": {
  "anaconda-cloud": {},
  "kernelspec": {
   "display_name": "Python 3",
   "language": "python",
   "name": "python3"
  },
  "language_info": {
   "codemirror_mode": {
    "name": "ipython",
    "version": 3
   },
   "file_extension": ".py",
   "mimetype": "text/x-python",
   "name": "python",
   "nbconvert_exporter": "python",
   "pygments_lexer": "ipython3",
   "version": "3.6.0"
  }
 },
 "nbformat": 4,
 "nbformat_minor": 1
}
